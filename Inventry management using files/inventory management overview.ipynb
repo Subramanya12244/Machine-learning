{
 "cells": [
  {
   "cell_type": "markdown",
   "metadata": {},
   "source": [
    "product details:\n",
    "1.product_id  \n",
    "2.product_name  \n",
    "3.price of product  \n",
    "4.quantities  "
   ]
  },
  {
   "cell_type": "markdown",
   "metadata": {},
   "source": [
    "printing the product details"
   ]
  },
  {
   "cell_type": "code",
   "execution_count": 12,
   "metadata": {},
   "outputs": [
    {
     "name": "stdout",
     "output_type": "stream",
     "text": [
      "['2', 'milkybar', '20', '100']\n",
      "--------------------------------------------\n",
      "Product Name:           milkybar\n",
      "product Price:          20\n",
      "Quantity:               10\n",
      "--------------------------------------------\n",
      "Total:                  200\n",
      "--------------------------------------------\n",
      "--------Inventory updated--------\n"
     ]
    }
   ],
   "source": [
    "# used for noting the time of the transaction\n",
    "import time;\n",
    "\n",
    "#used for reading the inventory text file\n",
    "fd=open('inventory.txt', 'r')\n",
    "products=fd.read()\n",
    "# we are seperating the products with , and converting it into string\n",
    "products=products.split('\\n')\n",
    "\n",
    "# taking the customer details from customer used for the sales report\n",
    "customer_username=input(\"enter ustomer name: \")\n",
    "customer_email=input(\"enter ustomer email: \")\n",
    "customer_phone=input(\"enter ustomer phone: \")\n",
    "\n",
    "product_id=input('enter the product id')\n",
    "product_quantity=input('enter the product quantity')\n",
    "\n",
    "# used another list so that we can update the list after each purchase\n",
    "updated_lst=[]\n",
    "\n",
    "# Going through each and every product detail\n",
    "for product in products:\n",
    "    product_details=product.split(',')\n",
    "    \n",
    "    # checking wheather the user entered unique id is present or not if present would move further\n",
    "    if(product_id==product_details[0]):\n",
    "        \n",
    "        # below lines used for debuging\n",
    "        \n",
    "        \n",
    "        # print(product_details)\n",
    "        # print(product_quantity)\n",
    "        # print(product_details[3])\n",
    "        \n",
    "        # cheaking wheather requested quantity is available in the inventory or not\n",
    "        \n",
    "        if(int(product_quantity)<=int(product_details[3])):\n",
    "            print(\"the product is available\")\n",
    "            \n",
    "            # updating the inventory quantity\n",
    "            product_details[3]=str(int(product_details[3])-int(product_quantity))\n",
    "            # print(product_details)\n",
    "            print(\"--------------------------------------------\")\n",
    "            print(\"Product Name:          \",product_details[1])\n",
    "            print(\"product Price:         \",product_details[2])\n",
    "            print(\"Quantity:              \",product_quantity)\n",
    "            print(\"--------------------------------------------\")\n",
    "            print(\"Total:                 \",int(product_details[2])*int(product_quantity))\n",
    "            print(\"--------------------------------------------\")\n",
    "            print(\"--------Inventory updated--------\")\n",
    "            \n",
    "            # generating sales in sales.txt\n",
    "            fd=open('sales.txt','a')\n",
    "            sales_detail = customer_username +\",\"+ customer_phone +\",\"+ customer_email +\",\"+product_details[1] +\",\"+product_details[2]+\",\"+ product_quantity +\",\"+ str(int(product_quantity) * int(product_details[2]))+\",\"+time.ctime()+ \"\\n\"\n",
    "            fd.write(sales_detail)\n",
    "            fd.close()\n",
    "            \n",
    "        # if we are not having enough quantity\n",
    "        else:\n",
    "            print(\"sorry we are having \",product_details[3],\" Quantities\")\n",
    "            print(\"would you like to but the left inventory\")\n",
    "            \n",
    "            \n",
    "            # if you wantt to purchase the remaining quantity\n",
    "            ch=input(\"y/Y\")\n",
    "            if(ch=='y' or ch=='Y'):\n",
    "                print(\"--------------------------------------------\")\n",
    "                print(\"Product Name:          \",product_details[1])\n",
    "                print(\"product Price:         \",product_details[2])\n",
    "                print(\"Quantity:              \",product_quantity)\n",
    "                print(\"--------------------------------------------\")\n",
    "                print(\"Total:                 \",int(product_details[2])*int(product_quantity))\n",
    "                print(\"--------------------------------------------\")\n",
    "                \n",
    "                print(\"--------Inventory updated--------\")\n",
    "                \n",
    "                fd=open('sales.txt','a')\n",
    "                sales_detail = customer_username +\",\"+ customer_phone +\",\"+ customer_email +\",\"+product_details[1] +\",\"+product_details[2]+\",\"+ product_details[3] +\",\"+ str(int(product_quantity) * int(product_details[2]))+\",\"+time.ctime()+ \"\\n\"\n",
    "                product_details[3]='0'\n",
    "                fd.write(sales_detail)\n",
    "                fd.close()\n",
    "            else:\n",
    "                print(\"Thanks\")\n",
    "    # print(product_details)\n",
    "    updated_lst.append(product_details)\n",
    "    # print(updated_lst)\n",
    "lst=[]\n",
    "\n",
    "# updating my inventory file\n",
    "fd=open('inventory.txt','w')\n",
    "for i in updated_lst:\n",
    "    prod=i[0]+\",\"+i[1]+\",\"+i[2]+\",\"+i[3]+\"\\n\"\n",
    "    lst.append(prod)\n",
    "    \n",
    "# removing the last \\n from the list\n",
    "lst[-1]=lst[-1][:-1]\n",
    "fd = open('inventory.txt','w')\n",
    "\n",
    "for i in lst:\n",
    "    fd.write(i)\n",
    "\n",
    "fd.close()"
   ]
  },
  {
   "cell_type": "code",
   "execution_count": 43,
   "metadata": {},
   "outputs": [
    {
     "data": {
      "text/plain": [
       "['2,milkybar,20,85',\n",
       " '2,milkybar,20,100',\n",
       " '3,dairy milk,5,200',\n",
       " '4,munch,10,150']"
      ]
     },
     "execution_count": 43,
     "metadata": {},
     "output_type": "execute_result"
    }
   ],
   "source": [
    "products"
   ]
  },
  {
   "cell_type": "code",
   "execution_count": null,
   "metadata": {},
   "outputs": [],
   "source": []
  }
 ],
 "metadata": {
  "kernelspec": {
   "display_name": "Python 3",
   "language": "python",
   "name": "python3"
  },
  "language_info": {
   "codemirror_mode": {
    "name": "ipython",
    "version": 3
   },
   "file_extension": ".py",
   "mimetype": "text/x-python",
   "name": "python",
   "nbconvert_exporter": "python",
   "pygments_lexer": "ipython3",
   "version": "3.11.4"
  }
 },
 "nbformat": 4,
 "nbformat_minor": 2
}
