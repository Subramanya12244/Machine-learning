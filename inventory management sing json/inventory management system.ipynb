{
 "cells": [
  {
   "cell_type": "code",
   "execution_count": 8,
   "metadata": {},
   "outputs": [
    {
     "name": "stdout",
     "output_type": "stream",
     "text": [
      "1001 :  5 Star | 10 | 0\n",
      "1002 :  Bar One | 20 | 100\n",
      "1003 :  Candy | 2 | 1000\n",
      "1004 :  Chocolate Cake | 550 | 8\n",
      "1005 :  BlueBerry Cake | 650 | 6\n",
      "-------------------Menu------------------------\n"
     ]
    },
    {
     "ename": "ValueError",
     "evalue": "invalid literal for int() with base 10: ''",
     "output_type": "error",
     "traceback": [
      "\u001b[1;31m---------------------------------------------------------------------------\u001b[0m",
      "\u001b[1;31mValueError\u001b[0m                                Traceback (most recent call last)",
      "Cell \u001b[1;32mIn[8], line 26\u001b[0m\n\u001b[0;32m     23\u001b[0m \u001b[38;5;28mprint\u001b[39m(\u001b[38;5;124m\"\u001b[39m\u001b[38;5;124m-------------------Menu------------------------\u001b[39m\u001b[38;5;124m\"\u001b[39m)\n\u001b[0;32m     25\u001b[0m user_pid\u001b[38;5;241m=\u001b[39m(\u001b[38;5;28minput\u001b[39m(\u001b[38;5;124m\"\u001b[39m\u001b[38;5;124menter the product id: \u001b[39m\u001b[38;5;124m\"\u001b[39m))\n\u001b[1;32m---> 26\u001b[0m user_quantity\u001b[38;5;241m=\u001b[39m\u001b[38;5;28;43mint\u001b[39;49m\u001b[43m(\u001b[49m\u001b[38;5;28;43minput\u001b[39;49m\u001b[43m(\u001b[49m\u001b[38;5;124;43m\"\u001b[39;49m\u001b[38;5;124;43menter the quantity: \u001b[39;49m\u001b[38;5;124;43m\"\u001b[39;49m\u001b[43m)\u001b[49m\u001b[43m)\u001b[49m\n\u001b[0;32m     28\u001b[0m \u001b[38;5;28;01mif\u001b[39;00m(records[user_pid][\u001b[38;5;124m'\u001b[39m\u001b[38;5;124mQn\u001b[39m\u001b[38;5;124m'\u001b[39m]\u001b[38;5;241m>\u001b[39m\u001b[38;5;241m=\u001b[39muser_quantity):\n\u001b[0;32m     29\u001b[0m     \u001b[38;5;28mprint\u001b[39m(\u001b[38;5;124m\"\u001b[39m\u001b[38;5;124m-------------------Bill------------------------\u001b[39m\u001b[38;5;124m\"\u001b[39m)\n",
      "\u001b[1;31mValueError\u001b[0m: invalid literal for int() with base 10: ''"
     ]
    }
   ],
   "source": [
    "import json\n",
    "\n",
    "# records={1001:{'Name':'5 Star','price':10,'Qn':200},\n",
    "#          1002:{'Name':'Bar One','price':20,'Qn':100},\n",
    "#          1003:{'Name':'Candy','price':2,'Qn':1000},\n",
    "#          1004:{'Name':'Chocolate Cake','price':550,'Qn':8},\n",
    "#          1005:{'Name':'BlueBerry Cake','price':650,'Qn':5}\n",
    "#          }\n",
    "\n",
    "# to save the results we are going to use json instead of records dictionaries\n",
    "\n",
    "\n",
    "# jsos.loads-Purpose: This function is used for deserialization. It takes a JSON string and converts it into a Python object.\n",
    "fd=open('record.json', 'r')\n",
    "js=fd.read()\n",
    "fd.close()\n",
    "\n",
    "records=json.loads(js)\n",
    "\n",
    "for key in records.keys():\n",
    "    print(key,\": \",records[key]['Name'],\"|\",records[key]['price'],\"|\",records[key]['Qn'])\n",
    "    \n",
    "print(\"-------------------Menu------------------------\")\n",
    "\n",
    "user_pid=(input(\"enter the product id: \"))\n",
    "user_quantity=int(input(\"enter the quantity: \"))\n",
    "\n",
    "if(records[user_pid]['Qn']>=user_quantity):\n",
    "    print(\"-------------------Bill------------------------\")\n",
    "\n",
    "    print(\"Name:             \",records[user_pid][\"Name\"])\n",
    "    print(\"Price:            \",records[user_pid][\"price\"],'(Rs)')\n",
    "    print(\"Quantity:         \",user_quantity)\n",
    "    records[user_pid]['Qn']=records[user_pid]['Qn']-user_quantity\n",
    "\n",
    "    print(\"-----------------------------------------------\")\n",
    "\n",
    "    print(\"Billing Amount:   \",int(records[user_pid]['price'])*user_quantity,'(Rs)')\n",
    "\n",
    "    print(\"-----------------------------------------------\")\n",
    "else:\n",
    "    print(\"Sorry to say but we don't have your quantity\")\n",
    "    print(\"would you like to buy the remaining products:\",records[user_pid]['Qn'])\n",
    "    ch=input(\"enter y/Y\")\n",
    "    if(ch=='y'or ch=='Y'):\n",
    "        print(\"-------------------Bill------------------------\")\n",
    "        print(\"Name:             \",records[user_pid][\"Name\"])\n",
    "        print(\"Price:            \",records[user_pid][\"price\"],'(Rs)')\n",
    "        print(\"Quantity:         \",records[user_pid][\"Qn\"])\n",
    "        \n",
    "\n",
    "        print(\"-----------------------------------------------\")\n",
    "\n",
    "        print(\"Billing Amount:   \",int(records[user_pid]['price'])*user_quantity,'(Rs)')\n",
    "        records[user_pid]['Qn']=0\n",
    "        print(\"-----------------------------------------------\")\n",
    "    else:\n",
    "        print(\"thanks\")\n",
    "# json-dumps-Purpose: This function is used for serialization. It converts a Python object into a JSON formatted string.\n",
    "js=json.dumps(records)\n",
    "fd=open('record.json','w')\n",
    "fd.write(js)\n",
    "fd.close()"
   ]
  },
  {
   "cell_type": "code",
   "execution_count": null,
   "metadata": {},
   "outputs": [],
   "source": []
  },
  {
   "cell_type": "code",
   "execution_count": null,
   "metadata": {},
   "outputs": [],
   "source": []
  }
 ],
 "metadata": {
  "kernelspec": {
   "display_name": "Python 3",
   "language": "python",
   "name": "python3"
  },
  "language_info": {
   "codemirror_mode": {
    "name": "ipython",
    "version": 3
   },
   "file_extension": ".py",
   "mimetype": "text/x-python",
   "name": "python",
   "nbconvert_exporter": "python",
   "pygments_lexer": "ipython3",
   "version": "3.11.4"
  }
 },
 "nbformat": 4,
 "nbformat_minor": 2
}
