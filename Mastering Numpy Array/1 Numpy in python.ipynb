{
 "cells": [
  {
   "cell_type": "markdown",
   "metadata": {},
   "source": [
    "Numpy- Numpy is a fundamental library for scientific computing in python. it provides support for arrays and matrices,along with a collection of mathematical functions to operate on these data structures."
   ]
  },
  {
   "cell_type": "code",
   "execution_count": 2,
   "metadata": {},
   "outputs": [
    {
     "name": "stdout",
     "output_type": "stream",
     "text": [
      "[1 2 3 4]\n",
      "(4,)\n",
      "<class 'numpy.ndarray'>\n"
     ]
    }
   ],
   "source": [
    "import numpy as np\n",
    "arr1=np.array([1,2,3,4])\n",
    "print(arr1)\n",
    "print(arr1.shape)\n",
    "print(type(arr1))"
   ]
  },
  {
   "cell_type": "code",
   "execution_count": 11,
   "metadata": {},
   "outputs": [
    {
     "data": {
      "text/plain": [
       "array([[1, 2],\n",
       "       [3, 4],\n",
       "       [5, 6]])"
      ]
     },
     "execution_count": 11,
     "metadata": {},
     "output_type": "execute_result"
    }
   ],
   "source": [
    "arr2=np.array([1,2,3,4,5,6])\n",
    "arr2.reshape(3,2)"
   ]
  },
  {
   "cell_type": "code",
   "execution_count": 15,
   "metadata": {},
   "outputs": [
    {
     "data": {
      "text/plain": [
       "array([[0, 3],\n",
       "       [6, 9]])"
      ]
     },
     "execution_count": 15,
     "metadata": {},
     "output_type": "execute_result"
    }
   ],
   "source": [
    "np.arange(0,10,3).reshape(2,2)"
   ]
  },
  {
   "cell_type": "code",
   "execution_count": 22,
   "metadata": {},
   "outputs": [
    {
     "data": {
      "text/plain": [
       "array([[0., 0., 0.],\n",
       "       [0., 0., 0.],\n",
       "       [0., 0., 0.],\n",
       "       [0., 0., 0.]])"
      ]
     },
     "execution_count": 22,
     "metadata": {},
     "output_type": "execute_result"
    }
   ],
   "source": [
    "np.ones((3,4))\n",
    "np.zeros((4,3))"
   ]
  },
  {
   "cell_type": "code",
   "execution_count": 27,
   "metadata": {},
   "outputs": [
    {
     "name": "stdout",
     "output_type": "stream",
     "text": [
      "Array [[1 2 3 4 5 6]\n",
      " [0 1 2 3 4 5]]\n",
      "shape (2, 6)\n",
      "nor of dimensions 2\n"
     ]
    }
   ],
   "source": [
    "arr1=np.array([[1,2,3,4,5,6],[0,1,2,3,4,5]])\n",
    "\n",
    "print(\"Array\",arr1)\n",
    "print(\"shape\",arr1.shape)\n",
    "print(\"nor of dimensions\",arr1.ndim)\n"
   ]
  },
  {
   "cell_type": "code",
   "execution_count": 31,
   "metadata": {},
   "outputs": [
    {
     "name": "stdout",
     "output_type": "stream",
     "text": [
      "Addition: [31 42 53 64]\n",
      "Substraction: [29 38 47 56]\n",
      "Multiplication: [ 30  80 150 240]\n",
      "Division: [30.         20.         16.66666667 15.        ]\n"
     ]
    }
   ],
   "source": [
    "# Number vectorised operation\n",
    "arr1=np.array([1,2,3,4])\n",
    "arr2=np.array([30,40,50,60])\n",
    "\n",
    "# element wise addition\n",
    "print(\"Addition:\",arr1+arr2)\n",
    "\n",
    "# element wise Substraction\n",
    "print(\"Substraction:\",arr2-arr1)\n",
    "\n",
    "# element wise Multiplication\n",
    "print(\"Multiplication:\",arr1*arr2)\n",
    "\n",
    "# element wise division\n",
    "print(\"Division:\",arr2/arr1)"
   ]
  },
  {
   "cell_type": "code",
   "execution_count": 34,
   "metadata": {},
   "outputs": [
    {
     "name": "stdout",
     "output_type": "stream",
     "text": [
      "Square root: [1.41421356 1.73205081 2.         2.23606798 2.44948974]\n",
      "Exponential: [  7.3890561   20.08553692  54.59815003 148.4131591  403.42879349]\n",
      "Sine: [ 0.90929743  0.14112001 -0.7568025  -0.95892427 -0.2794155 ]\n",
      "natural log [0.69314718 1.09861229 1.38629436 1.60943791 1.79175947]\n"
     ]
    }
   ],
   "source": [
    "# universal Function\n",
    "arr=np.array([2,3,4,5,6])\n",
    "\n",
    "# square root\n",
    "print(\"Square root:\",np.sqrt(arr))\n",
    "\n",
    "# exponential\n",
    "print(\"Exponential:\",np.exp(arr))\n",
    "\n",
    "# sine\n",
    "print(\"Sine:\",np.sin(arr))\n",
    "\n",
    "# natural log\n",
    "print(\"natural log\",np.log(arr))\n"
   ]
  },
  {
   "cell_type": "markdown",
   "metadata": {},
   "source": [
    "Array Slicing and Indexing"
   ]
  },
  {
   "cell_type": "code",
   "execution_count": 37,
   "metadata": {},
   "outputs": [
    {
     "name": "stdout",
     "output_type": "stream",
     "text": [
      "[[ 1  2  3  4]\n",
      " [ 5  6  7  8]\n",
      " [ 9 10 11 12]]\n",
      "1\n"
     ]
    }
   ],
   "source": [
    "arr=np.array([[1,2,3,4],[5,6,7,8],[9,10,11,12]])\n",
    "print(arr)\n",
    "\n"
   ]
  },
  {
   "cell_type": "code",
   "execution_count": 41,
   "metadata": {},
   "outputs": [
    {
     "name": "stdout",
     "output_type": "stream",
     "text": [
      "1\n",
      "[[ 7  8]\n",
      " [11 12]]\n",
      "[[1 2]\n",
      " [5 6]]\n"
     ]
    }
   ],
   "source": [
    "print(arr [0][0])\n",
    "print(arr[1:,2:])\n",
    "print(arr[:2,:2])"
   ]
  },
  {
   "cell_type": "markdown",
   "metadata": {},
   "source": [
    "Modifying the array"
   ]
  },
  {
   "cell_type": "code",
   "execution_count": 44,
   "metadata": {},
   "outputs": [
    {
     "name": "stdout",
     "output_type": "stream",
     "text": [
      "[[100   2   3   4]\n",
      " [  5   6   7   8]\n",
      " [  9  10  11  12]]\n",
      "[[100   2   3   4]\n",
      " [  5   6 100   8]\n",
      " [  9  10 100  12]]\n"
     ]
    }
   ],
   "source": [
    "arr=np.array([[1,2,3,4],[5,6,7,8],[9,10,11,12]])\n",
    "arr[0][0]=100\n",
    "print(arr)\n",
    "\n",
    "arr[1:3,2:3]=100\n",
    "print(arr)"
   ]
  },
  {
   "cell_type": "markdown",
   "metadata": {},
   "source": [
    "Statastical concepts-Normalization\n",
    "to have a mean of 0 and sd of 1\n"
   ]
  },
  {
   "cell_type": "code",
   "execution_count": 46,
   "metadata": {},
   "outputs": [
    {
     "name": "stdout",
     "output_type": "stream",
     "text": [
      "Normalize data: [-1.41421356 -0.70710678  0.          0.70710678  1.41421356]\n"
     ]
    }
   ],
   "source": [
    "data=np.array([1,2,3,4,5])\n",
    "\n",
    "# calculate mean and standard deviation\n",
    "\n",
    "mean=np.mean(data)\n",
    "std_dev=np.std(data)\n",
    "\n",
    "# Normalize the data\n",
    "\n",
    "Normalize=(data-mean)/std_dev\n",
    "print(\"Normalize data:\",Normalize)\n",
    "\n"
   ]
  },
  {
   "cell_type": "code",
   "execution_count": 49,
   "metadata": {},
   "outputs": [
    {
     "name": "stdout",
     "output_type": "stream",
     "text": [
      "Mean data: 5.5\n",
      "Median data: 5.5\n",
      "Standard deviation: 2.8722813232690143\n",
      "Variance: 8.25\n"
     ]
    }
   ],
   "source": [
    "data=np.array([1,2,3,4,5,6,7,8,9,10])\n",
    "\n",
    "# Mean\n",
    "mean=np.mean(data)\n",
    "print(\"Mean data:\",mean)\n",
    "\n",
    "# Median\n",
    "Median=np.median(data)\n",
    "print(\"Median data:\",Median)\n",
    "\n",
    "# std_dev\n",
    "std_dev=np.std(data)\n",
    "print(\"Standard deviation:\",std_dev)\n",
    "\n",
    "# variance\n",
    "variance=np.var(data)\n",
    "print(\"Variance:\",variance)"
   ]
  },
  {
   "cell_type": "markdown",
   "metadata": {},
   "source": [
    "logical opearation"
   ]
  },
  {
   "cell_type": "code",
   "execution_count": 51,
   "metadata": {},
   "outputs": [
    {
     "data": {
      "text/plain": [
       "array([3, 4, 5, 6])"
      ]
     },
     "execution_count": 51,
     "metadata": {},
     "output_type": "execute_result"
    }
   ],
   "source": [
    "data=np.array([1,2,3,4,5,6])\n",
    "data>2\n",
    "data[data>2]"
   ]
  },
  {
   "cell_type": "markdown",
   "metadata": {},
   "source": []
  }
 ],
 "metadata": {
  "kernelspec": {
   "display_name": "Python 3",
   "language": "python",
   "name": "python3"
  },
  "language_info": {
   "codemirror_mode": {
    "name": "ipython",
    "version": 3
   },
   "file_extension": ".py",
   "mimetype": "text/x-python",
   "name": "python",
   "nbconvert_exporter": "python",
   "pygments_lexer": "ipython3",
   "version": "3.11.4"
  }
 },
 "nbformat": 4,
 "nbformat_minor": 2
}
