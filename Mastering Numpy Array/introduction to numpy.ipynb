{
 "cells": [
  {
   "cell_type": "code",
   "execution_count": 2,
   "metadata": {},
   "outputs": [
    {
     "name": "stdout",
     "output_type": "stream",
     "text": [
      "Requirement already satisfied: numpy in c:\\users\\asubr\\appdata\\local\\programs\\python\\python311\\lib\\site-packages (1.24.2)Note: you may need to restart the kernel to use updated packages.\n",
      "\n"
     ]
    }
   ],
   "source": [
    "%pip install numpy"
   ]
  },
  {
   "cell_type": "code",
   "execution_count": 14,
   "metadata": {},
   "outputs": [
    {
     "name": "stdout",
     "output_type": "stream",
     "text": [
      "<class 'list'>\n",
      "[1 2 3 4 5]\n",
      "<class 'numpy.ndarray'>\n",
      "1\n",
      "2\n",
      "(3, 3)\n",
      "5\n",
      "[[0. 0. 0. 0. 0.]\n",
      " [0. 0. 0. 0. 0.]\n",
      " [0. 0. 0. 0. 0.]]\n",
      "[[1. 1. 1. 1. 1.]\n",
      " [1. 1. 1. 1. 1.]\n",
      " [1. 1. 1. 1. 1.]]\n"
     ]
    }
   ],
   "source": [
    "import numpy as np\n",
    "lst=[1,2,3,4,5]\n",
    "\n",
    "print(type(lst))\n",
    "\n",
    "arr=np.array(lst)\n",
    "\n",
    "print(arr)\n",
    "\n",
    "print(type(arr))\n",
    "\n",
    "# ndarray means that it is ndimensional array\n",
    "\n",
    "# to check wheather wich dementional array it wee use arr.ndim\n",
    "twodarray=[[1,2,3],[4,5,6],[7,8,9]]\n",
    "two=np.array(twodarray)\n",
    "print(arr.ndim)\n",
    "print(two.ndim)\n",
    "\n",
    "\n",
    "# two.shape states what is the dimension of the like m&n values\n",
    "\n",
    "print(two.shape)\n",
    "\n",
    "# it is a 3*3 matrix\n",
    "\n",
    "# arr.size-states how many elements are in the array\n",
    "\n",
    "print(arr.size)\n",
    "\n",
    "# np.zeros-initialises all the array elements into zeroes\n",
    "zeros=np.zeros((3,5))\n",
    "print(zeros)\n",
    "\n",
    "# np.ones-initialises all the array elements into ones\n",
    "ones=np.ones((3,5))\n",
    "print(ones)"
   ]
  },
  {
   "cell_type": "code",
   "execution_count": null,
   "metadata": {},
   "outputs": [],
   "source": []
  }
 ],
 "metadata": {
  "kernelspec": {
   "display_name": "Python 3",
   "language": "python",
   "name": "python3"
  },
  "language_info": {
   "codemirror_mode": {
    "name": "ipython",
    "version": 3
   },
   "file_extension": ".py",
   "mimetype": "text/x-python",
   "name": "python",
   "nbconvert_exporter": "python",
   "pygments_lexer": "ipython3",
   "version": "3.11.4"
  }
 },
 "nbformat": 4,
 "nbformat_minor": 2
}
