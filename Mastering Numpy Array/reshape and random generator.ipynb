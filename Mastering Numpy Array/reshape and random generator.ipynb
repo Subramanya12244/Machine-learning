{
 "cells": [
  {
   "cell_type": "code",
   "execution_count": 2,
   "metadata": {},
   "outputs": [
    {
     "name": "stdout",
     "output_type": "stream",
     "text": [
      "[[0.19984453 0.32080313 0.23314503]\n",
      " [0.41058873 0.58082872 0.26791355]\n",
      " [0.07234604 0.56161221 0.12427053]]\n",
      "[[0.76166988 0.60178559]\n",
      " [0.77513669 0.66199556]\n",
      " [0.12676958 0.10743241]\n",
      " [0.50624886 0.10167911]\n",
      " [0.58419076 0.14388523]]\n",
      "after\n",
      "[[0.76166988 0.60178559 0.77513669 0.66199556 0.12676958]\n",
      " [0.10743241 0.50624886 0.10167911 0.58419076 0.14388523]]\n"
     ]
    },
    {
     "data": {
      "text/plain": [
       "array([0.76166988, 0.60178559, 0.77513669, 0.66199556, 0.12676958,\n",
       "       0.10743241, 0.50624886, 0.10167911, 0.58419076, 0.14388523])"
      ]
     },
     "execution_count": 2,
     "metadata": {},
     "output_type": "execute_result"
    }
   ],
   "source": [
    "import numpy as np\n",
    "\n",
    "arr=np.random.random((3,3))\n",
    "print(arr)\n",
    "\n",
    "np.arange(1,10,2)\n",
    "# here 1 is starting point 10 is ending point-1 and 2 is the difference\n",
    "\n",
    "np.linspace(1,7,10)\n",
    "# it would provide 10 elements in the range between 1,10\n",
    "\n",
    "array=np.random.random((5,2))\n",
    "print(array)\n",
    "\n",
    "print(\"after\")\n",
    "array=np.reshape(array,(2,5))\n",
    "print(array)\n",
    "\n",
    "# reshape would change the dimensions of the array \n",
    "\n",
    "\n",
    "# arr.flaten it would convert n-dimensional arrays int one dimensional array\n",
    "\n",
    "array.flatten()\n"
   ]
  },
  {
   "cell_type": "markdown",
   "metadata": {},
   "source": [
    "various functions in the numpy\n"
   ]
  },
  {
   "cell_type": "markdown",
   "metadata": {},
   "source": [
    "1.Arrange function:it creates an array by using the evenly spaced values over the given interval\n",
    "\n",
    "syntax:numpy.arrange(start,stop,step,dtype)\n",
    "\n",
    "where dtype:the data type of the numpy array items\n"
   ]
  },
  {
   "cell_type": "code",
   "execution_count": 4,
   "metadata": {},
   "outputs": [
    {
     "data": {
      "text/plain": [
       "array([1, 3, 5, 7, 9])"
      ]
     },
     "execution_count": 4,
     "metadata": {},
     "output_type": "execute_result"
    }
   ],
   "source": [
    "arr=np.arange(1,10,2)\n",
    "arr"
   ]
  },
  {
   "cell_type": "markdown",
   "metadata": {},
   "source": [
    "2.size function: it counts the nor of elements in the array and along with axis\n",
    "0-for rows, 1-for columns\n"
   ]
  },
  {
   "cell_type": "code",
   "execution_count": 7,
   "metadata": {},
   "outputs": [
    {
     "name": "stdout",
     "output_type": "stream",
     "text": [
      "total number of elements in array 12\n",
      "rows 3\n",
      "cols 4\n",
      "[[ 1  2  3  5]\n",
      " [ 4  5  6  7]\n",
      " [ 7  8  9 10]]\n"
     ]
    }
   ],
   "source": [
    "arr=np.array([[1,2,3,5],[4,5,6,7],[7,8,9,10]])\n",
    "print('total number of elements in array',arr.size)\n",
    "print('rows',np.size(arr,0))\n",
    "print('cols',np.size(arr,1))\n",
    "print(arr)"
   ]
  },
  {
   "cell_type": "markdown",
   "metadata": {},
   "source": [
    "3.shape function: used to find the dimensions that is no of rows and cols present"
   ]
  },
  {
   "cell_type": "code",
   "execution_count": 8,
   "metadata": {},
   "outputs": [
    {
     "name": "stdout",
     "output_type": "stream",
     "text": [
      "(3, 4)\n"
     ]
    }
   ],
   "source": [
    "arr=np.array([[1,2,3,5],[4,5,6,7],[7,8,9,10]])\n",
    "print(arr.shape)"
   ]
  },
  {
   "cell_type": "markdown",
   "metadata": {},
   "source": [
    "4) dtype Function :dtype in Python usually means the data type of the elements of a numpy array.\n",
    "\n",
    "Below is a list of all data types in NumPy and the characters used to represent them.\n",
    "\n",
    "i - integer\n",
    "b - boolean\n",
    "u - unsigned integer\n",
    "f - float\n",
    "c - complex float\n",
    "m - timedelta\n",
    "M - datetime\n",
    "O - object\n",
    "S - string\n",
    "U - unicode string"
   ]
  },
  {
   "cell_type": "code",
   "execution_count": 9,
   "metadata": {},
   "outputs": [
    {
     "name": "stdout",
     "output_type": "stream",
     "text": [
      "int32\n",
      "float64\n"
     ]
    }
   ],
   "source": [
    "arr1 = np.array([1,2,3,1,2,3])\n",
    "arr2 = np.array([1.2,3.1,2.3])\n",
    "print(arr1.dtype)\n",
    "print(arr2.dtype)\n"
   ]
  },
  {
   "cell_type": "markdown",
   "metadata": {},
   "source": [
    "5) Ndim Function :The ndim attribute in NumPy provides the number of dimensions in an array ie 1-D , 2-D etc."
   ]
  },
  {
   "cell_type": "code",
   "execution_count": 11,
   "metadata": {},
   "outputs": [
    {
     "name": "stdout",
     "output_type": "stream",
     "text": [
      "1\n",
      "2\n",
      "3\n",
      "[[[1 2 3 1 2 3]]]\n"
     ]
    }
   ],
   "source": [
    "arr1 = np.array([1,2,3,1,2,3])\n",
    "arr2 = np.array([[1,2,3],[1,2,3]])\n",
    "\n",
    "print(arr1.ndim)\n",
    "print(arr2.ndim)\n",
    "\n",
    "arr3 = np.array(arr1, ndmin = 3)\n",
    "print(arr3.ndim)\n",
    "print(arr3)\n"
   ]
  },
  {
   "cell_type": "markdown",
   "metadata": {},
   "source": [
    "6) Zeros Function : returns an array with the given shape and data type filled with zeros."
   ]
  },
  {
   "cell_type": "code",
   "execution_count": 15,
   "metadata": {},
   "outputs": [
    {
     "name": "stdout",
     "output_type": "stream",
     "text": [
      "[0. 0. 0. 0. 0. 0. 0. 0. 0.]\n",
      "[0 0 0 0 0 0 0]\n",
      "[[0. 0. 0. 0. 0.]\n",
      " [0. 0. 0. 0. 0.]\n",
      " [0. 0. 0. 0. 0.]\n",
      " [0. 0. 0. 0. 0.]]\n",
      "[[[0. 0. 0. 0. 0.]\n",
      "  [0. 0. 0. 0. 0.]\n",
      "  [0. 0. 0. 0. 0.]]\n",
      "\n",
      " [[0. 0. 0. 0. 0.]\n",
      "  [0. 0. 0. 0. 0.]\n",
      "  [0. 0. 0. 0. 0.]]\n",
      "\n",
      " [[0. 0. 0. 0. 0.]\n",
      "  [0. 0. 0. 0. 0.]\n",
      "  [0. 0. 0. 0. 0.]]\n",
      "\n",
      " [[0. 0. 0. 0. 0.]\n",
      "  [0. 0. 0. 0. 0.]\n",
      "  [0. 0. 0. 0. 0.]]]\n"
     ]
    }
   ],
   "source": [
    "# Example 1: Create a 1D array of zeros\n",
    "# With 7 elements and integer data type\n",
    "arr = np.zeros(9)\n",
    "print(arr)\n",
    "# Example 2: Create a 1D array of zeros\n",
    "# With 7 elements and integer data type\n",
    "arr = np.zeros(7, int)\n",
    "print(arr)\n",
    "# Example 3: Create two-dimensional array with zeros\n",
    "arr = np.zeros(shape=(4,5))\n",
    "print(arr)\n",
    "# Example 4: Create three-dimensional array with zeros\n",
    "arr = np.zeros((4, 3, 5))\n",
    "print(arr)"
   ]
  },
  {
   "cell_type": "markdown",
   "metadata": {},
   "source": [
    "7) Ones function : used to create a new array of given shape and type, filled with ones.\n",
    "\n",
    "Syntax : numpy.ones(shape, dtype = None)"
   ]
  },
  {
   "cell_type": "code",
   "execution_count": 16,
   "metadata": {},
   "outputs": [
    {
     "name": "stdout",
     "output_type": "stream",
     "text": [
      "[[1 1 1 1 1]\n",
      " [1 1 1 1 1]\n",
      " [1 1 1 1 1]]\n"
     ]
    }
   ],
   "source": [
    "arr = np.ones(shape = (3,5), dtype = int)\n",
    "print(arr)"
   ]
  },
  {
   "cell_type": "markdown",
   "metadata": {},
   "source": [
    "8) Eye Function : The eye tool returns a 2-D array with 1’s as the diagonal and 0’s elsewhere. The diagonal can be main, upper, or lower\n",
    "\n",
    "Syntax : numpy.eye(n, m, dtype)\n",
    "\n",
    "\n",
    "where : n :used for the nor of rows \n",
    "\n",
    "m :nor of the columns of the matrix\n",
    "\n",
    "k:k is the diagonal value elem k>0.\n",
    "\n",
    "dtype :This parameter is used to indicate the data type of the matrix. The default value of this parameter is float. This is an optional parameter.\n",
    "\n",
    "\n",
    "np.eye(4, dtype = int)"
   ]
  },
  {
   "cell_type": "code",
   "execution_count": 21,
   "metadata": {},
   "outputs": [
    {
     "data": {
      "text/plain": [
       "array([[1, 0, 0, 0],\n",
       "       [0, 1, 0, 0],\n",
       "       [0, 0, 1, 0],\n",
       "       [0, 0, 0, 1]])"
      ]
     },
     "execution_count": 21,
     "metadata": {},
     "output_type": "execute_result"
    }
   ],
   "source": [
    "np.eye(4, dtype = int)\n",
    "\n"
   ]
  },
  {
   "cell_type": "markdown",
   "metadata": {},
   "source": [
    "9) Empty Function: It is used to create a new array of given shapes and types, without initializing entries."
   ]
  },
  {
   "cell_type": "code",
   "execution_count": 23,
   "metadata": {},
   "outputs": [
    {
     "data": {
      "text/plain": [
       "array([[9.18829272e-312, 7.60861095e-322, 0.00000000e+000,\n",
       "        0.00000000e+000, 7.56571287e-307],\n",
       "       [1.15998412e-028, 4.31603868e-080, 1.94919985e-153,\n",
       "        1.35717430e+131, 6.98346901e-077],\n",
       "       [1.81148490e-152, 9.37041222e-076, 1.05117820e-153,\n",
       "        6.01391519e-154, 1.05121175e-153],\n",
       "       [7.68132025e+140, 6.01347002e-154, 7.54951879e-096,\n",
       "        1.95360725e-109, 4.90900643e+252],\n",
       "       [1.94918511e-153, 6.32672800e+180, 4.74483502e+170,\n",
       "        3.00948078e-067, 1.03724748e-314]])"
      ]
     },
     "execution_count": 23,
     "metadata": {},
     "output_type": "execute_result"
    }
   ],
   "source": [
    "arr=np.empty()\n",
    "arr"
   ]
  },
  {
   "cell_type": "code",
   "execution_count": null,
   "metadata": {},
   "outputs": [],
   "source": []
  }
 ],
 "metadata": {
  "kernelspec": {
   "display_name": "Python 3",
   "language": "python",
   "name": "python3"
  },
  "language_info": {
   "codemirror_mode": {
    "name": "ipython",
    "version": 3
   },
   "file_extension": ".py",
   "mimetype": "text/x-python",
   "name": "python",
   "nbconvert_exporter": "python",
   "pygments_lexer": "ipython3",
   "version": "3.11.4"
  }
 },
 "nbformat": 4,
 "nbformat_minor": 2
}
