{
 "cells": [
  {
   "cell_type": "code",
   "execution_count": 2,
   "id": "cd5f5d15",
   "metadata": {},
   "outputs": [],
   "source": [
    "# fd=open('dataWrite.txt','w')\n",
    "fd=open('dataWrite.txt','a')\n",
    "fd.write(\"hello i am subramnaya\")\n",
    "fd.write(\"how are you\")\n",
    "fd.close()"
   ]
  },
  {
   "cell_type": "code",
   "execution_count": null,
   "id": "2b19e804",
   "metadata": {},
   "outputs": [],
   "source": []
  }
 ],
 "metadata": {
  "kernelspec": {
   "display_name": "Python 3 (ipykernel)",
   "language": "python",
   "name": "python3"
  },
  "language_info": {
   "codemirror_mode": {
    "name": "ipython",
    "version": 3
   },
   "file_extension": ".py",
   "mimetype": "text/x-python",
   "name": "python",
   "nbconvert_exporter": "python",
   "pygments_lexer": "ipython3",
   "version": "3.9.13"
  }
 },
 "nbformat": 4,
 "nbformat_minor": 5
}
