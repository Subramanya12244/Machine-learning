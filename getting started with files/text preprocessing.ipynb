{
 "cells": [
  {
   "cell_type": "code",
   "execution_count": 7,
   "id": "7d0aa0e7",
   "metadata": {},
   "outputs": [
    {
     "data": {
      "text/plain": [
       "list"
      ]
     },
     "execution_count": 7,
     "metadata": {},
     "output_type": "execute_result"
    }
   ],
   "source": [
    "fd=open('data corpus.txt','r')\n",
    "txt=fd.read()\n",
    "\n",
    "\n",
    "\n",
    "#count the nor of lines"
   ]
  },
  {
   "cell_type": "markdown",
   "id": "cd27872a",
   "metadata": {},
   "source": [
    "##count the nor of the paragraphs"
   ]
  },
  {
   "cell_type": "code",
   "execution_count": 9,
   "id": "c758afae",
   "metadata": {},
   "outputs": [
    {
     "data": {
      "text/plain": [
       "6"
      ]
     },
     "execution_count": 9,
     "metadata": {},
     "output_type": "execute_result"
    }
   ],
   "source": [
    "per=txt.split(\"\\n\\n\")\n",
    "len(per)\n"
   ]
  },
  {
   "cell_type": "markdown",
   "id": "b6ebac14",
   "metadata": {},
   "source": [
    "##count the nor of lines"
   ]
  },
  {
   "cell_type": "code",
   "execution_count": 10,
   "id": "b15b81f6",
   "metadata": {},
   "outputs": [
    {
     "data": {
      "text/plain": [
       "21"
      ]
     },
     "execution_count": 10,
     "metadata": {},
     "output_type": "execute_result"
    }
   ],
   "source": [
    "lines=txt.split('.')\n",
    "len(lines)\n",
    "\n",
    "    "
   ]
  },
  {
   "cell_type": "code",
   "execution_count": 11,
   "id": "87915a66",
   "metadata": {},
   "outputs": [
    {
     "name": "stdout",
     "output_type": "stream",
     "text": [
      "Coronavirus disease 2019 (COVID-19) is a contagious disease caused by severe acute respiratory syndrome coronavirus 2 (SARS-CoV-2)\n",
      " The first known case was identified in Wuhan, China, in December 2019\n",
      "[7] The disease has since spread worldwide, leading to an ongoing pandemic\n",
      "[8]\n",
      "\n",
      "Symptoms of COVID-19 are variable, but often include fever,[9] cough, headache,[10] fatigue, breathing difficulties, and loss of smell and taste\n",
      "[11][12][13] Symptoms may begin one to fourteen days after exposure to the virus\n",
      " At least a third of people who are infected do not develop noticeable symptoms\n",
      "[14] Of those people who develop symptoms noticeable enough to be classed as patients, most (81%) develop mild to moderate symptoms (up to mild pneumonia), while 14% develop severe symptoms (dyspnea, hypoxia, or more than 50% lung involvement on imaging), and 5% suffer critical symptoms (respiratory failure, shock, or multi-organ dysfunction)\n",
      "[15] Older people are at a higher risk of developing severe symptoms\n",
      " Some people continue to experience a range of effects (long COVID) for months after recovery, and damage to organs has been observed\n",
      "[16] Multi-year studies are underway to further investigate the long-term effects of the disease\n",
      "[16]\n",
      "\n",
      "COVID-19 transmits when people breathe in air contaminated by droplets and small airborne particles containing the virus\n",
      " The risk of breathing these in is highest when people are in close proximity, but they can be inhaled over longer distances, particularly indoors\n",
      " Transmission can also occur if splashed or sprayed with contaminated fluids in the eyes, nose or mouth, and, rarely, via contaminated surfaces\n",
      " People remain contagious for up to 20 days, and can spread the virus even if they do not develop symptoms\n",
      "[17][18]\n",
      "\n",
      "Several testing methods have been developed to diagnose the disease\n",
      " The standard diagnostic method is by detection of the virus' nucleic acid by real-time reverse transcription polymerase chain reaction (rRT-PCR), transcription-mediated amplification (TMA), or by reverse transcription loop-mediated isothermal amplification (RT-LAMP) from a nasopharyngeal swab\n",
      "\n",
      "\n",
      "Preventive measures include physical or social distancing, quarantining, ventilation of indoor spaces, covering coughs and sneezes, hand washing, and keeping unwashed hands away from the face\n",
      " The use of face masks or coverings has been recommended in public settings to minimise the risk of transmissions\n",
      "\n",
      "\n",
      "While work is underway to develop drugs that inhibit the virus (and several vaccines for it have been approved and distributed in various countries, which have since initiated mass vaccination campaigns), the primary treatment is symptomatic\n",
      " Management involves the treatment of symptoms, supportive care, isolation, and experimental measures\n",
      "\n"
     ]
    }
   ],
   "source": [
    "for i in lines:\n",
    "    print(i)"
   ]
  },
  {
   "cell_type": "code",
   "execution_count": 25,
   "id": "19316057",
   "metadata": {},
   "outputs": [
    {
     "data": {
      "text/plain": [
       "['Hello Everyone, How are you?']"
      ]
     },
     "execution_count": 25,
     "metadata": {},
     "output_type": "execute_result"
    }
   ],
   "source": [
    "fd1=open('data.txt','r')\n",
    "txt1=fd1.read()\n",
    "para1=txt1.split('\\n')\n",
    "para1\n",
    "\n"
   ]
  },
  {
   "cell_type": "code",
   "execution_count": 23,
   "id": "a579bf04",
   "metadata": {},
   "outputs": [
    {
     "data": {
      "text/plain": [
       "5"
      ]
     },
     "execution_count": 23,
     "metadata": {},
     "output_type": "execute_result"
    }
   ],
   "source": [
    "# nor of words\n",
    "words=txt1.split(' ')\n",
    "len(words)"
   ]
  },
  {
   "cell_type": "code",
   "execution_count": 28,
   "id": "912b9ad2",
   "metadata": {},
   "outputs": [
    {
     "name": "stdout",
     "output_type": "stream",
     "text": [
      "Hello\n",
      "Everyone,\n",
      "How\n",
      "are\n",
      "you?\n"
     ]
    }
   ],
   "source": [
    "# print all the words\n",
    "\n",
    "for i in words:\n",
    "    print(i)"
   ]
  },
  {
   "cell_type": "code",
   "execution_count": null,
   "id": "3802bdc6",
   "metadata": {},
   "outputs": [],
   "source": []
  }
 ],
 "metadata": {
  "kernelspec": {
   "display_name": "Python 3 (ipykernel)",
   "language": "python",
   "name": "python3"
  },
  "language_info": {
   "codemirror_mode": {
    "name": "ipython",
    "version": 3
   },
   "file_extension": ".py",
   "mimetype": "text/x-python",
   "name": "python",
   "nbconvert_exporter": "python",
   "pygments_lexer": "ipython3",
   "version": "3.9.13"
  }
 },
 "nbformat": 4,
 "nbformat_minor": 5
}
