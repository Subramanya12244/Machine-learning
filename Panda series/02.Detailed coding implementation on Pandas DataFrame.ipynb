{
 "cells": [
  {
   "cell_type": "markdown",
   "metadata": {},
   "source": [
    "## <font color='green'>2. Detailed Coding Implementations on Pandas DataFrame</font>"
   ]
  },
  {
   "cell_type": "markdown",
   "metadata": {},
   "source": [
    "Pandas DataFrame si 2d size mutable ,potentially heterogeneous tabular ds with labelled rows and cols \n",
    "Pandas DataFrame consists of 3 principles components \n",
    "1.data\n",
    "2.rows\n",
    "3.cols\n",
    "\n"
   ]
  },
  {
   "cell_type": "markdown",
   "metadata": {},
   "source": [
    "a) Creating the DataFrame\n",
    "-->it will be creating by loading the datasets from existing storage ,storage can be sql ,csv,excel fiels \n",
    "--.can be created using the list dictionary and list of dictionary "
   ]
  },
  {
   "cell_type": "markdown",
   "metadata": {},
   "source": [
    "#### Creating a dataframe using List: \n",
    "DataFrame can be created using a single list or a list of lists.\n"
   ]
  },
  {
   "cell_type": "code",
   "execution_count": 1,
   "metadata": {},
   "outputs": [
    {
     "data": {
      "text/html": [
       "<div>\n",
       "<style scoped>\n",
       "    .dataframe tbody tr th:only-of-type {\n",
       "        vertical-align: middle;\n",
       "    }\n",
       "\n",
       "    .dataframe tbody tr th {\n",
       "        vertical-align: top;\n",
       "    }\n",
       "\n",
       "    .dataframe thead th {\n",
       "        text-align: right;\n",
       "    }\n",
       "</style>\n",
       "<table border=\"1\" class=\"dataframe\">\n",
       "  <thead>\n",
       "    <tr style=\"text-align: right;\">\n",
       "      <th></th>\n",
       "      <th>0</th>\n",
       "    </tr>\n",
       "  </thead>\n",
       "  <tbody>\n",
       "    <tr>\n",
       "      <th>0</th>\n",
       "      <td>Geeks</td>\n",
       "    </tr>\n",
       "    <tr>\n",
       "      <th>1</th>\n",
       "      <td>For</td>\n",
       "    </tr>\n",
       "    <tr>\n",
       "      <th>2</th>\n",
       "      <td>Geeks</td>\n",
       "    </tr>\n",
       "    <tr>\n",
       "      <th>3</th>\n",
       "      <td>is</td>\n",
       "    </tr>\n",
       "    <tr>\n",
       "      <th>4</th>\n",
       "      <td>portal</td>\n",
       "    </tr>\n",
       "    <tr>\n",
       "      <th>5</th>\n",
       "      <td>for</td>\n",
       "    </tr>\n",
       "    <tr>\n",
       "      <th>6</th>\n",
       "      <td>Geeks</td>\n",
       "    </tr>\n",
       "  </tbody>\n",
       "</table>\n",
       "</div>"
      ],
      "text/plain": [
       "        0\n",
       "0   Geeks\n",
       "1     For\n",
       "2   Geeks\n",
       "3      is\n",
       "4  portal\n",
       "5     for\n",
       "6   Geeks"
      ]
     },
     "execution_count": 1,
     "metadata": {},
     "output_type": "execute_result"
    }
   ],
   "source": [
    "import pandas as pd\n",
    "lst = ['Geeks', 'For', 'Geeks', 'is', 'portal', 'for', 'Geeks']\n",
    "pd.DataFrame(lst)\n"
   ]
  },
  {
   "cell_type": "markdown",
   "metadata": {},
   "source": [
    "\n"
   ]
  },
  {
   "cell_type": "code",
   "execution_count": null,
   "metadata": {},
   "outputs": [],
   "source": [
    "lst =[['tom',10],['jerry',20],['spike',30]]\n",
    "pd.DataFrame(lst)"
   ]
  },
  {
   "cell_type": "markdown",
   "metadata": {},
   "source": []
  },
  {
   "cell_type": "markdown",
   "metadata": {},
   "source": [
    "Creating dataFrame from dict of ndarray/lists:\n",
    "-->to create it it must have all narray must be of the same length \n",
    "-->If index is passed then the length index should be equal to the length of arrays. If no index is passed, then by default, index will be range(n) where n is the array length."
   ]
  },
  {
   "cell_type": "code",
   "execution_count": null,
   "metadata": {},
   "outputs": [],
   "source": [
    "data ={'name':['Tom', 'nick', 'krish', 'jack'],'age':[20, 21, 19, 18]}\n",
    "pd.DataFrame(data)"
   ]
  },
  {
   "cell_type": "markdown",
   "metadata": {},
   "source": [
    "We can perform basic operations on rows/columns like selecting, deleting, adding, and renaming.\n",
    "-->Column Selection: In Order to select a column in Pandas DataFrame, we can either access the columns by calling them by their columns name."
   ]
  },
  {
   "cell_type": "code",
   "execution_count": null,
   "metadata": {},
   "outputs": [],
   "source": [
    "data = { 'Name'         :['Jai', 'Princi', 'Gaurav', 'Anuj'],\n",
    "         'Age'          :[27, 24, 22, 32],\n",
    "         'Address'      :['Delhi', 'Kanpur', 'Allahabad', 'Kannauj'],\n",
    "         'Qualification':['Msc', 'MA', 'MCA', 'Phd']}\n",
    "\n",
    "df=pd.DataFrame(data)\n",
    "df\n",
    "\n",
    "# acesssing the colums:\n",
    "df[['Name','Qualification']]"
   ]
  },
  {
   "cell_type": "markdown",
   "metadata": {},
   "source": [
    "b) Slicing in DataFrames Using iloc and loc\n",
    "\n",
    "-->loc() and iloc() are one of those methods. These are used in slicing data from the Pandas DataFrame. They help in the convenient selection of data from the DataFrame in Python.\n",
    "--> They are used in filtering the data according to some conditions."
   ]
  },
  {
   "cell_type": "code",
   "execution_count": null,
   "metadata": {},
   "outputs": [],
   "source": [
    "data = {'one'   : pd.Series([1, 2, 3, 4]),\n",
    "        'two'   : pd.Series([10, 20, 30, 40]),\n",
    "        'three' : pd.Series([100, 200, 300, 400]),\n",
    "        'four'  : pd.Series([1000, 2000, 3000, 4000])}\n",
    "\n",
    "df = pd.DataFrame(data)\n",
    "df"
   ]
  },
  {
   "cell_type": "markdown",
   "metadata": {},
   "source": [
    "Basic loc Operations:\n",
    "--> in this we are going tpo pass the name of the row or column which we want to select"
   ]
  },
  {
   "cell_type": "code",
   "execution_count": null,
   "metadata": {},
   "outputs": [],
   "source": [
    "df.loc[1:3,'two':'three']\n",
    "# first we have to pass the row as its axis is 0 and col as 1\n"
   ]
  },
  {
   "cell_type": "markdown",
   "metadata": {},
   "source": [
    "Basic iloc() Operations:\n",
    "-->in the loc() we used the label based indexing where as in this iloc() we are going to use integer indexing.\n",
    "-->it does not acept the boolean data unlike loc()"
   ]
  },
  {
   "cell_type": "code",
   "execution_count": null,
   "metadata": {},
   "outputs": [],
   "source": [
    "df.iloc[1:2,2:3]\n",
    "df.iloc[:,2:3]\n",
    "\n",
    "# selecting specific rows\n",
    "\n",
    "df.iloc[[1,3],[1,2]]"
   ]
  },
  {
   "cell_type": "markdown",
   "metadata": {},
   "source": [
    "\n",
    "c) Slicing Using Conditions:\n",
    "\n"
   ]
  },
  {
   "cell_type": "code",
   "execution_count": null,
   "metadata": {},
   "outputs": [],
   "source": [
    "df.loc[df['two']<20,['three','four']]\n",
    "\n",
    "df.loc[df['three']>200,['four']]"
   ]
  },
  {
   "cell_type": "markdown",
   "metadata": {},
   "source": [
    "c) Column Addition in DataFrame:\n",
    "We can add a column in many ways. Let us discuss three ways how we can add column here\n",
    "\n",
    "-->Using List\n",
    "-->Using Pandas Series\n",
    "-->Using an existing Column(we can modify that column in the way we want and that modified part can also be displayed)\n",
    "\n"
   ]
  },
  {
   "cell_type": "code",
   "execution_count": null,
   "metadata": {},
   "outputs": [],
   "source": [
    "# 1.using the list\n",
    "lst=[1,2,3,4]\n",
    "df['five']=lst\n",
    "df"
   ]
  },
  {
   "cell_type": "code",
   "execution_count": null,
   "metadata": {},
   "outputs": [],
   "source": [
    "# 2.using the Pandas Series\n",
    "sr=pd.Series([10,20,30,40])\n",
    "df['six']=sr\n",
    "df"
   ]
  },
  {
   "cell_type": "code",
   "execution_count": null,
   "metadata": {},
   "outputs": [],
   "source": [
    "# 3.using the existing col\n",
    "df['seven']=df['two']+20\n",
    "df"
   ]
  },
  {
   "cell_type": "markdown",
   "metadata": {},
   "source": []
  },
  {
   "cell_type": "markdown",
   "metadata": {},
   "source": [
    "d) Column Deletion in Dataframes:\n",
    "-->using del\n",
    "-->using the pop\n"
   ]
  },
  {
   "cell_type": "code",
   "execution_count": null,
   "metadata": {},
   "outputs": [],
   "source": [
    "# using the del\n",
    "del df['six']\n",
    "df"
   ]
  },
  {
   "cell_type": "code",
   "execution_count": null,
   "metadata": {},
   "outputs": [],
   "source": [
    "# using the pop \n",
    "df.pop('five')\n",
    "df"
   ]
  },
  {
   "cell_type": "markdown",
   "metadata": {},
   "source": [
    "e) Addition of rows"
   ]
  },
  {
   "cell_type": "code",
   "execution_count": null,
   "metadata": {},
   "outputs": [],
   "source": [
    "df1 = pd.DataFrame([[1, 2], [3, 4]], columns = ['a','b'])\n",
    "df2 = pd.DataFrame([[5, 6], [7, 8]], columns = ['a','b'])\n",
    "\n",
    "\n",
    "df3 = df1.append(df2).reset_index(drop = True)\n",
    "\n",
    "df3"
   ]
  },
  {
   "cell_type": "code",
   "execution_count": null,
   "metadata": {},
   "outputs": [],
   "source": [
    "data = { 'one'   : pd.Series([1, 2, 3, 4]),\n",
    "         'two'   : pd.Series([10, 20, 30, 40]),\n",
    "         'three' : pd.Series([100, 200, 300, 400]),\n",
    "         'four'  : pd.Series([1000, 2000, 3000, 4000])}\n",
    "\n",
    "\n",
    "df = pd.DataFrame(data)\n",
    "df"
   ]
  },
  {
   "cell_type": "markdown",
   "metadata": {},
   "source": [
    "f) Pandas drop function:\n",
    "\n",
    "axis=0-->rows\n",
    "axis=1-->cols\n"
   ]
  },
  {
   "cell_type": "code",
   "execution_count": null,
   "metadata": {},
   "outputs": [],
   "source": [
    "# for the rows\n",
    "df.drop([0,1],axis=0,inplace=True)\n",
    "# instead of df=df for savingg we use inplace=true\n",
    "\n",
    "\n"
   ]
  },
  {
   "cell_type": "markdown",
   "metadata": {},
   "source": []
  },
  {
   "cell_type": "code",
   "execution_count": null,
   "metadata": {},
   "outputs": [],
   "source": [
    "# for the cols axis=1\n",
    "df.drop(['one','four'],axis=1,inplace=True)\n",
    "df"
   ]
  },
  {
   "cell_type": "markdown",
   "metadata": {},
   "source": [
    "g) Transposing a DataFrame:\n",
    "-->we use T attribute for transposing a DataFrame which means rows are converted to cols and columns are converted to rows\n"
   ]
  },
  {
   "cell_type": "code",
   "execution_count": null,
   "metadata": {},
   "outputs": [],
   "source": [
    "data = { 'one'   : pd.Series([1, 2, 3, 4]),\n",
    "         'two'   : pd.Series([10, 20, 30, 40]),\n",
    "         'three' : pd.Series([100, 200, 300, 400]),\n",
    "         'four'  : pd.Series([1000, 2000, 3000, 4000])}\n",
    "\n",
    "df = pd.DataFrame(data)\n",
    "df.T"
   ]
  },
  {
   "cell_type": "markdown",
   "metadata": {},
   "source": [
    "h) A set of more DataFrame Functionalities:\n",
    "1.axes function-returns the list of with rows and cols-->first for row and 2nd cols\n",
    "2.ndim function->returns the dimentions of DF always 2 for DF\n",
    "3.dtypes--> returns the data type column wise\n",
    "4.shape function-->returnns the in the form of tuples nor of roes and cols\n",
    "5.df.head() function-->examine and returns the first n few rows of DF\n",
    "6.df.tail() function-->examine and returns the last n few rows of DF\n",
    "7.empty function()-->cheks wheather the DF is the empty and return a boolean value"
   ]
  },
  {
   "cell_type": "code",
   "execution_count": null,
   "metadata": {},
   "outputs": [],
   "source": [
    "# 1.axes function\n",
    "df.axes\n"
   ]
  },
  {
   "cell_type": "code",
   "execution_count": null,
   "metadata": {},
   "outputs": [],
   "source": [
    "# 2.ndim function\n",
    "df.ndim"
   ]
  },
  {
   "cell_type": "code",
   "execution_count": null,
   "metadata": {},
   "outputs": [],
   "source": [
    "# 3.dtypes:\n",
    "df.dtypes"
   ]
  },
  {
   "cell_type": "code",
   "execution_count": null,
   "metadata": {},
   "outputs": [],
   "source": [
    "# 4.shape function\n",
    "df.shape"
   ]
  },
  {
   "cell_type": "code",
   "execution_count": null,
   "metadata": {},
   "outputs": [],
   "source": [
    "# 5.df.head() function\n",
    "df.head(3)"
   ]
  },
  {
   "cell_type": "code",
   "execution_count": null,
   "metadata": {},
   "outputs": [],
   "source": [
    "# 6.df.tail() function\n",
    "df.tail(2)"
   ]
  },
  {
   "cell_type": "markdown",
   "metadata": {},
   "source": []
  },
  {
   "cell_type": "markdown",
   "metadata": {},
   "source": [
    "i) Statistical or Mathematical Functions\n",
    "Sum \n",
    " \n",
    " Mean \n",
    " \n",
    " Median \n",
    " \n",
    " Mode \n",
    " \n",
    " Variance \n",
    " \n",
    " Min \n",
    " \n",
    " Max \n",
    " \n",
    " Standard Deviation"
   ]
  },
  {
   "cell_type": "code",
   "execution_count": null,
   "metadata": {},
   "outputs": [],
   "source": [
    "data = {'one'   : pd.Series([1, 2, 3, 4]),\n",
    "        'two'   : pd.Series([10, 20, 30, 40]),\n",
    "        'three' : pd.Series([100, 200, 300, 400]),\n",
    "        'four'  : pd.Series([1000, 2000, 3000, 4000])}\n",
    "\n",
    "df = pd.DataFrame(data)\n",
    "df"
   ]
  },
  {
   "cell_type": "code",
   "execution_count": null,
   "metadata": {},
   "outputs": [],
   "source": [
    "# 1.sum\n",
    "df.sum()\n"
   ]
  },
  {
   "cell_type": "code",
   "execution_count": null,
   "metadata": {},
   "outputs": [],
   "source": [
    "# 2.mean\n",
    "df.mean()"
   ]
  },
  {
   "cell_type": "code",
   "execution_count": null,
   "metadata": {},
   "outputs": [],
   "source": [
    "# 3.Median\n",
    "df.median()"
   ]
  },
  {
   "cell_type": "code",
   "execution_count": null,
   "metadata": {},
   "outputs": [],
   "source": [
    "# 4.Mode\n",
    "de = pd.DataFrame({'A': [1, 2, 2, 3, 4, 4, 4, 5], 'B': [10, 20, 20, 30, 40, 40, 50, 60]})\n",
    "\n",
    "print('A' , de['A'].mode())\n",
    "print('B' , de['B'].mode())"
   ]
  },
  {
   "cell_type": "code",
   "execution_count": null,
   "metadata": {},
   "outputs": [],
   "source": [
    "# 5.Variance\n",
    "df.var()"
   ]
  },
  {
   "cell_type": "code",
   "execution_count": null,
   "metadata": {},
   "outputs": [],
   "source": [
    "# 6.Min\n",
    "df.min()"
   ]
  },
  {
   "cell_type": "code",
   "execution_count": null,
   "metadata": {},
   "outputs": [],
   "source": [
    "# 7.Max\n",
    "df.max()"
   ]
  },
  {
   "cell_type": "code",
   "execution_count": null,
   "metadata": {},
   "outputs": [],
   "source": [
    "# 8.Standard Deviation\n",
    "df.std()"
   ]
  },
  {
   "cell_type": "markdown",
   "metadata": {},
   "source": [
    "j) Describe Function:\n",
    "-->returns descriptive statistics of the data in the DataFrame. It provides a quick summary of the central tendency, dispersion, and shape of the distribution of a set of numerical data.\n",
    "\n",
    "-->The default behavior of describe() is to compute descriptive statistics for all numerical columns in the DataFrame. \n",
    "-->If you want to compute descriptive statistics for a specific column, you can pass the name of the column as an argument."
   ]
  },
  {
   "cell_type": "code",
   "execution_count": 62,
   "metadata": {},
   "outputs": [
    {
     "data": {
      "text/html": [
       "<div>\n",
       "<style scoped>\n",
       "    .dataframe tbody tr th:only-of-type {\n",
       "        vertical-align: middle;\n",
       "    }\n",
       "\n",
       "    .dataframe tbody tr th {\n",
       "        vertical-align: top;\n",
       "    }\n",
       "\n",
       "    .dataframe thead th {\n",
       "        text-align: right;\n",
       "    }\n",
       "</style>\n",
       "<table border=\"1\" class=\"dataframe\">\n",
       "  <thead>\n",
       "    <tr style=\"text-align: right;\">\n",
       "      <th></th>\n",
       "      <th>one</th>\n",
       "      <th>two</th>\n",
       "      <th>three</th>\n",
       "      <th>four</th>\n",
       "    </tr>\n",
       "  </thead>\n",
       "  <tbody>\n",
       "    <tr>\n",
       "      <th>count</th>\n",
       "      <td>4.000000</td>\n",
       "      <td>4.000000</td>\n",
       "      <td>4.000000</td>\n",
       "      <td>4.000000</td>\n",
       "    </tr>\n",
       "    <tr>\n",
       "      <th>mean</th>\n",
       "      <td>2.500000</td>\n",
       "      <td>25.000000</td>\n",
       "      <td>250.000000</td>\n",
       "      <td>2500.000000</td>\n",
       "    </tr>\n",
       "    <tr>\n",
       "      <th>std</th>\n",
       "      <td>1.290994</td>\n",
       "      <td>12.909944</td>\n",
       "      <td>129.099445</td>\n",
       "      <td>1290.994449</td>\n",
       "    </tr>\n",
       "    <tr>\n",
       "      <th>min</th>\n",
       "      <td>1.000000</td>\n",
       "      <td>10.000000</td>\n",
       "      <td>100.000000</td>\n",
       "      <td>1000.000000</td>\n",
       "    </tr>\n",
       "    <tr>\n",
       "      <th>25%</th>\n",
       "      <td>1.750000</td>\n",
       "      <td>17.500000</td>\n",
       "      <td>175.000000</td>\n",
       "      <td>1750.000000</td>\n",
       "    </tr>\n",
       "    <tr>\n",
       "      <th>50%</th>\n",
       "      <td>2.500000</td>\n",
       "      <td>25.000000</td>\n",
       "      <td>250.000000</td>\n",
       "      <td>2500.000000</td>\n",
       "    </tr>\n",
       "    <tr>\n",
       "      <th>75%</th>\n",
       "      <td>3.250000</td>\n",
       "      <td>32.500000</td>\n",
       "      <td>325.000000</td>\n",
       "      <td>3250.000000</td>\n",
       "    </tr>\n",
       "    <tr>\n",
       "      <th>max</th>\n",
       "      <td>4.000000</td>\n",
       "      <td>40.000000</td>\n",
       "      <td>400.000000</td>\n",
       "      <td>4000.000000</td>\n",
       "    </tr>\n",
       "  </tbody>\n",
       "</table>\n",
       "</div>"
      ],
      "text/plain": [
       "            one        two       three         four\n",
       "count  4.000000   4.000000    4.000000     4.000000\n",
       "mean   2.500000  25.000000  250.000000  2500.000000\n",
       "std    1.290994  12.909944  129.099445  1290.994449\n",
       "min    1.000000  10.000000  100.000000  1000.000000\n",
       "25%    1.750000  17.500000  175.000000  1750.000000\n",
       "50%    2.500000  25.000000  250.000000  2500.000000\n",
       "75%    3.250000  32.500000  325.000000  3250.000000\n",
       "max    4.000000  40.000000  400.000000  4000.000000"
      ]
     },
     "execution_count": 62,
     "metadata": {},
     "output_type": "execute_result"
    }
   ],
   "source": [
    "data = {'one'  : pd.Series([1, 2, 3, 4]),\n",
    "        'two'  : pd.Series([10, 20, 30, 40]),\n",
    "        'three': pd.Series([100, 200, 300, 400]),\n",
    "        'four' : pd.Series([1000, 2000, 3000, 4000]),\n",
    "        'five' : pd.Series(['A','B','C','D'])}\n",
    "\n",
    "\n",
    "df = pd.DataFrame(data)\n",
    "\n",
    "df.describe()"
   ]
  },
  {
   "cell_type": "markdown",
   "metadata": {},
   "source": [
    "k) Pipe Functions:\n",
    "The pipe() method in a Pandas DataFrame allows you to apply a function to the DataFrame, similar to the way the apply() method works. The difference is that pipe() allows you to chain multiple operations together by passing the output of one function to the input of the next function."
   ]
  },
  {
   "cell_type": "code",
   "execution_count": null,
   "metadata": {},
   "outputs": [],
   "source": [
    "data = {'one'  : pd.Series([1, 2, 3, 4]),\n",
    "        'two'  : pd.Series([10, 20, 30, 40]),\n",
    "        'three': pd.Series([100, 200, 300, 400]),\n",
    "        'four' : pd.Series([1000, 2000, 3000, 4000])}\n",
    "\n",
    "df = pd.DataFrame(data)\n",
    "df"
   ]
  },
  {
   "cell_type": "code",
   "execution_count": null,
   "metadata": {},
   "outputs": [],
   "source": [
    "\n",
    "def add_(i,j):\n",
    "    return i + j\n",
    "\n",
    "df.pipe(add_, 10)"
   ]
  },
  {
   "cell_type": "code",
   "execution_count": null,
   "metadata": {},
   "outputs": [],
   "source": [
    "def mean_(col):\n",
    "    return col.mean()\n",
    "\n",
    "def square(i):\n",
    "    return i ** 2\n",
    "\n",
    "df.pipe(mean_).pipe(square)"
   ]
  },
  {
   "cell_type": "markdown",
   "metadata": {},
   "source": []
  },
  {
   "cell_type": "markdown",
   "metadata": {},
   "source": [
    "2. Apply Function\n",
    "The apply() method in a Pandas DataFrame allows you to apply a function to the DataFrame, either to individual elements or to the entire DataFrame. The function can be either a built-in Python function or a user-defined function"
   ]
  },
  {
   "cell_type": "code",
   "execution_count": 67,
   "metadata": {},
   "outputs": [
    {
     "name": "stdout",
     "output_type": "stream",
     "text": [
      "one         2.5\n",
      "two        25.0\n",
      "three     250.0\n",
      "four     2500.0\n",
      "dtype: float64\n"
     ]
    }
   ],
   "source": [
    "import numpy as np\n",
    "data = {'one'  : pd.Series([1, 2, 3, 4]),\n",
    "        'two'  : pd.Series([10, 20, 30, 40]),\n",
    "        'three': pd.Series([100, 200, 300, 400]),\n",
    "        'four' : pd.Series([1000, 2000, 3000, 4000])}\n",
    "\n",
    "df = pd.DataFrame(data)\n",
    "df\n",
    "print(df.apply(np.mean))"
   ]
  },
  {
   "cell_type": "code",
   "execution_count": 68,
   "metadata": {},
   "outputs": [
    {
     "data": {
      "text/plain": [
       "one         3\n",
       "two        30\n",
       "three     300\n",
       "four     3000\n",
       "dtype: int64"
      ]
     },
     "execution_count": 68,
     "metadata": {},
     "output_type": "execute_result"
    }
   ],
   "source": [
    "df.apply(lambda x: x.max() - x.min())"
   ]
  },
  {
   "cell_type": "markdown",
   "metadata": {},
   "source": [
    "3. Apply map function\n",
    "The map() method in a Pandas DataFrame allows you to apply a function to each element of a specific column of the DataFrame. The function can be either a built-in Python function or a user-defined function."
   ]
  },
  {
   "cell_type": "code",
   "execution_count": 69,
   "metadata": {},
   "outputs": [
    {
     "name": "stdout",
     "output_type": "stream",
     "text": [
      "   A  B\n",
      "0  1  7\n",
      "1  3  9\n",
      "2  5  2\n",
      "A    3.4\n",
      "B    6.4\n",
      "dtype: float64\n"
     ]
    }
   ],
   "source": [
    "df = pd.DataFrame({ 'A': [1.2, 3.4, 5.6], \n",
    "                    'B': [7.8, 9.1, 2.3]})\n",
    "\n",
    "df_1 = df.applymap(np.int64)\n",
    "print(df_1)\n",
    "\n",
    "df_2 = df.apply(lambda row : row.mean(), axis = 0)\n",
    "print(df_2)"
   ]
  },
  {
   "cell_type": "markdown",
   "metadata": {},
   "source": [
    "l) Reindex Function:"
   ]
  },
  {
   "cell_type": "code",
   "execution_count": 70,
   "metadata": {},
   "outputs": [
    {
     "name": "stdout",
     "output_type": "stream",
     "text": [
      "   one  two  three  four\n",
      "0    1   10    100  1000\n",
      "1    2   20    200  2000\n",
      "2    3   30    300  3000\n",
      "3    4   40    400  4000\n",
      "------------------------------\n",
      "   one  two  three  four\n",
      "1    2   20    200  2000\n",
      "0    1   10    100  1000\n",
      "3    4   40    400  4000\n",
      "2    3   30    300  3000\n"
     ]
    }
   ],
   "source": [
    "data = { 'one'   : pd.Series([1, 2, 3, 4]),\n",
    "         'two'   : pd.Series([10, 20, 30, 40]),\n",
    "         'three' : pd.Series([100, 200, 300, 400]),\n",
    "         'four'  : pd.Series([1000, 2000, 3000, 4000])}\n",
    "\n",
    "df = pd.DataFrame(data)\n",
    "# example 1 for rows \n",
    "print(df)\n",
    "print('-'*30)\n",
    "print(df.reindex([1,0,3,2]))\n",
    "\n"
   ]
  },
  {
   "cell_type": "code",
   "execution_count": 71,
   "metadata": {},
   "outputs": [
    {
     "data": {
      "text/html": [
       "<div>\n",
       "<style scoped>\n",
       "    .dataframe tbody tr th:only-of-type {\n",
       "        vertical-align: middle;\n",
       "    }\n",
       "\n",
       "    .dataframe tbody tr th {\n",
       "        vertical-align: top;\n",
       "    }\n",
       "\n",
       "    .dataframe thead th {\n",
       "        text-align: right;\n",
       "    }\n",
       "</style>\n",
       "<table border=\"1\" class=\"dataframe\">\n",
       "  <thead>\n",
       "    <tr style=\"text-align: right;\">\n",
       "      <th></th>\n",
       "      <th>Name</th>\n",
       "      <th>City</th>\n",
       "      <th>Age</th>\n",
       "    </tr>\n",
       "  </thead>\n",
       "  <tbody>\n",
       "    <tr>\n",
       "      <th>0</th>\n",
       "      <td>John</td>\n",
       "      <td>New York</td>\n",
       "      <td>25</td>\n",
       "    </tr>\n",
       "    <tr>\n",
       "      <th>1</th>\n",
       "      <td>Jane</td>\n",
       "      <td>Los Angeles</td>\n",
       "      <td>30</td>\n",
       "    </tr>\n",
       "    <tr>\n",
       "      <th>2</th>\n",
       "      <td>Jim</td>\n",
       "      <td>Chicago</td>\n",
       "      <td>35</td>\n",
       "    </tr>\n",
       "    <tr>\n",
       "      <th>3</th>\n",
       "      <td>Joan</td>\n",
       "      <td>Houston</td>\n",
       "      <td>40</td>\n",
       "    </tr>\n",
       "  </tbody>\n",
       "</table>\n",
       "</div>"
      ],
      "text/plain": [
       "   Name         City  Age\n",
       "0  John     New York   25\n",
       "1  Jane  Los Angeles   30\n",
       "2   Jim      Chicago   35\n",
       "3  Joan      Houston   40"
      ]
     },
     "execution_count": 71,
     "metadata": {},
     "output_type": "execute_result"
    }
   ],
   "source": [
    "# example-2\n",
    "data = {'Name' : ['John', 'Jane', 'Jim', 'Joan'],\n",
    "        'Age'  : [25, 30, 35, 40],\n",
    "        'City' : ['New York', 'Los Angeles', 'Chicago', 'Houston']}\n",
    "\n",
    "df = pd.DataFrame(data)\n",
    "\n",
    "df.(columns = ['Name','City','Age'])"
   ]
  },
  {
   "cell_type": "markdown",
   "metadata": {},
   "source": [
    "\n",
    "m) Renaming Columns in Pandas DataFrame"
   ]
  },
  {
   "cell_type": "code",
   "execution_count": 72,
   "metadata": {},
   "outputs": [
    {
     "data": {
      "text/html": [
       "<div>\n",
       "<style scoped>\n",
       "    .dataframe tbody tr th:only-of-type {\n",
       "        vertical-align: middle;\n",
       "    }\n",
       "\n",
       "    .dataframe tbody tr th {\n",
       "        vertical-align: top;\n",
       "    }\n",
       "\n",
       "    .dataframe thead th {\n",
       "        text-align: right;\n",
       "    }\n",
       "</style>\n",
       "<table border=\"1\" class=\"dataframe\">\n",
       "  <thead>\n",
       "    <tr style=\"text-align: right;\">\n",
       "      <th></th>\n",
       "      <th>One</th>\n",
       "      <th>Two</th>\n",
       "      <th>Three</th>\n",
       "      <th>Four</th>\n",
       "    </tr>\n",
       "  </thead>\n",
       "  <tbody>\n",
       "    <tr>\n",
       "      <th>a</th>\n",
       "      <td>1</td>\n",
       "      <td>10</td>\n",
       "      <td>100</td>\n",
       "      <td>1000</td>\n",
       "    </tr>\n",
       "    <tr>\n",
       "      <th>b</th>\n",
       "      <td>2</td>\n",
       "      <td>20</td>\n",
       "      <td>200</td>\n",
       "      <td>2000</td>\n",
       "    </tr>\n",
       "    <tr>\n",
       "      <th>c</th>\n",
       "      <td>3</td>\n",
       "      <td>30</td>\n",
       "      <td>300</td>\n",
       "      <td>3000</td>\n",
       "    </tr>\n",
       "    <tr>\n",
       "      <th>3</th>\n",
       "      <td>4</td>\n",
       "      <td>40</td>\n",
       "      <td>400</td>\n",
       "      <td>4000</td>\n",
       "    </tr>\n",
       "  </tbody>\n",
       "</table>\n",
       "</div>"
      ],
      "text/plain": [
       "   One  Two  Three  Four\n",
       "a    1   10    100  1000\n",
       "b    2   20    200  2000\n",
       "c    3   30    300  3000\n",
       "3    4   40    400  4000"
      ]
     },
     "execution_count": 72,
     "metadata": {},
     "output_type": "execute_result"
    }
   ],
   "source": [
    "data = { 'one'   : pd.Series([1, 2, 3, 4]),\n",
    "         'two'   : pd.Series([10, 20, 30, 40]),\n",
    "         'three' : pd.Series([100, 200, 300, 400]),\n",
    "         'four'  : pd.Series([1000, 2000, 3000, 4000])}\n",
    "\n",
    "df = pd.DataFrame(data)\n",
    "\n",
    "df.rename(columns = {'one' : 'One','two': 'Two', 'three' : 'Three', 'four' : 'Four'}, \n",
    "           inplace = True, index = {0:'a',1:'b',2:'c',4:'d'})\n",
    "df"
   ]
  },
  {
   "cell_type": "code",
   "execution_count": null,
   "metadata": {},
   "outputs": [],
   "source": []
  },
  {
   "cell_type": "code",
   "execution_count": null,
   "metadata": {},
   "outputs": [],
   "source": [
    "\n",
    "    "
   ]
  }
 ],
 "metadata": {
  "kernelspec": {
   "display_name": "Python 3",
   "language": "python",
   "name": "python3"
  },
  "language_info": {
   "codemirror_mode": {
    "name": "ipython",
    "version": 3
   },
   "file_extension": ".py",
   "mimetype": "text/x-python",
   "name": "python",
   "nbconvert_exporter": "python",
   "pygments_lexer": "ipython3",
   "version": "3.11.4"
  }
 },
 "nbformat": 4,
 "nbformat_minor": 2
}
