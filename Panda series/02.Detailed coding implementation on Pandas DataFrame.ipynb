{
 "cells": [
  {
   "cell_type": "markdown",
   "metadata": {},
   "source": [
    "## <font color='green'>2. Detailed Coding Implementations on Pandas DataFrame</font>"
   ]
  },
  {
   "cell_type": "markdown",
   "metadata": {},
   "source": [
    "Pandas DataFrame si 2d size mutable ,potentially heterogeneous tabular ds with labelled rows and cols \n",
    "Pandas DataFrame consists of 3 principles components \n",
    "1.data\n",
    "2.rows\n",
    "3.cols\n",
    "\n"
   ]
  },
  {
   "cell_type": "markdown",
   "metadata": {},
   "source": [
    "a) Creating the DataFrame\n",
    "-->it will be creating by loading the datasets from existing storage ,storage can be sql ,csv,excel fiels \n",
    "--.can be created using the list dictionary and list of dictionary "
   ]
  },
  {
   "cell_type": "markdown",
   "metadata": {},
   "source": [
    "#### Creating a dataframe using List: \n",
    "DataFrame can be created using a single list or a list of lists.\n"
   ]
  },
  {
   "cell_type": "code",
   "execution_count": null,
   "metadata": {},
   "outputs": [],
   "source": [
    "import pandas as pd\n",
    "lst = ['Geeks', 'For', 'Geeks', 'is', 'portal', 'for', 'Geeks']\n",
    "pd.DataFrame(lst)"
   ]
  },
  {
   "cell_type": "markdown",
   "metadata": {},
   "source": [
    "\n"
   ]
  },
  {
   "cell_type": "code",
   "execution_count": null,
   "metadata": {},
   "outputs": [],
   "source": [
    "lst =[['tom',10],['jerry',20],['spike',30]]\n",
    "pd.DataFrame(lst)"
   ]
  },
  {
   "cell_type": "markdown",
   "metadata": {},
   "source": []
  },
  {
   "cell_type": "markdown",
   "metadata": {},
   "source": [
    "Creating dataFrame from dict of ndarray/lists:\n",
    "-->to create it it must have all narray must be of the same length \n",
    "-->If index is passed then the length index should be equal to the length of arrays. If no index is passed, then by default, index will be range(n) where n is the array length."
   ]
  },
  {
   "cell_type": "code",
   "execution_count": null,
   "metadata": {},
   "outputs": [],
   "source": [
    "data ={'name':['Tom', 'nick', 'krish', 'jack'],'age':[20, 21, 19, 18]}\n",
    "pd.DataFrame(data)"
   ]
  },
  {
   "cell_type": "markdown",
   "metadata": {},
   "source": [
    "We can perform basic operations on rows/columns like selecting, deleting, adding, and renaming.\n",
    "-->Column Selection: In Order to select a column in Pandas DataFrame, we can either access the columns by calling them by their columns name."
   ]
  },
  {
   "cell_type": "code",
   "execution_count": null,
   "metadata": {},
   "outputs": [],
   "source": [
    "data = { 'Name'         :['Jai', 'Princi', 'Gaurav', 'Anuj'],\n",
    "         'Age'          :[27, 24, 22, 32],\n",
    "         'Address'      :['Delhi', 'Kanpur', 'Allahabad', 'Kannauj'],\n",
    "         'Qualification':['Msc', 'MA', 'MCA', 'Phd']}\n",
    "\n",
    "df=pd.DataFrame(data)\n",
    "df\n",
    "\n",
    "# acesssing the colums:\n",
    "df[['Name','Qualification']]"
   ]
  },
  {
   "cell_type": "markdown",
   "metadata": {},
   "source": [
    "b) Slicing in DataFrames Using iloc and loc\n",
    "\n",
    "-->loc() and iloc() are one of those methods. These are used in slicing data from the Pandas DataFrame. They help in the convenient selection of data from the DataFrame in Python.\n",
    "--> They are used in filtering the data according to some conditions."
   ]
  },
  {
   "cell_type": "code",
   "execution_count": null,
   "metadata": {},
   "outputs": [],
   "source": [
    "data = {'one'   : pd.Series([1, 2, 3, 4]),\n",
    "        'two'   : pd.Series([10, 20, 30, 40]),\n",
    "        'three' : pd.Series([100, 200, 300, 400]),\n",
    "        'four'  : pd.Series([1000, 2000, 3000, 4000])}\n",
    "\n",
    "df = pd.DataFrame(data)\n",
    "df"
   ]
  },
  {
   "cell_type": "markdown",
   "metadata": {},
   "source": [
    "Basic loc Operations:\n",
    "--> in this we are going tpo pass the name of the row or column which we want to select"
   ]
  },
  {
   "cell_type": "code",
   "execution_count": null,
   "metadata": {},
   "outputs": [],
   "source": [
    "df.loc[1:3,'two':'three']\n",
    "# first we have to pass the row as its axis is 0 and col as 1\n"
   ]
  },
  {
   "cell_type": "markdown",
   "metadata": {},
   "source": [
    "Basic iloc() Operations:\n",
    "-->in the loc() we used the label based indexing where as in this iloc() we are going to use integer indexing.\n",
    "-->it does not acept the boolean data unlike loc()"
   ]
  },
  {
   "cell_type": "code",
   "execution_count": null,
   "metadata": {},
   "outputs": [],
   "source": [
    "df.iloc[1:2,2:3]\n",
    "df.iloc[:,2:3]\n",
    "\n",
    "# selecting specific rows\n",
    "\n",
    "df.iloc[[1,3],[1,2]]"
   ]
  },
  {
   "cell_type": "markdown",
   "metadata": {},
   "source": [
    "\n",
    "c) Slicing Using Conditions:\n",
    "\n"
   ]
  },
  {
   "cell_type": "code",
   "execution_count": null,
   "metadata": {},
   "outputs": [],
   "source": [
    "df.loc[df['two']<20,['three','four']]\n",
    "\n",
    "df.loc[df['three']>200,['four']]"
   ]
  },
  {
   "cell_type": "markdown",
   "metadata": {},
   "source": [
    "c) Column Addition in DataFrame:\n",
    "We can add a column in many ways. Let us discuss three ways how we can add column here\n",
    "\n",
    "-->Using List\n",
    "-->Using Pandas Series\n",
    "-->Using an existing Column(we can modify that column in the way we want and that modified part can also be displayed)\n",
    "\n"
   ]
  },
  {
   "cell_type": "code",
   "execution_count": null,
   "metadata": {},
   "outputs": [],
   "source": [
    "# 1.using the list\n",
    "lst=[1,2,3,4]\n",
    "df['five']=lst\n",
    "df"
   ]
  },
  {
   "cell_type": "code",
   "execution_count": null,
   "metadata": {},
   "outputs": [],
   "source": [
    "# 2.using the Pandas Series\n",
    "sr=pd.Series([10,20,30,40])\n",
    "df['six']=sr\n",
    "df"
   ]
  },
  {
   "cell_type": "code",
   "execution_count": null,
   "metadata": {},
   "outputs": [],
   "source": [
    "# 3.using the existing col\n",
    "df['seven']=df['two']+20\n",
    "df"
   ]
  },
  {
   "cell_type": "markdown",
   "metadata": {},
   "source": []
  },
  {
   "cell_type": "markdown",
   "metadata": {},
   "source": [
    "d) Column Deletion in Dataframes:\n",
    "-->using del\n",
    "-->using the pop\n"
   ]
  },
  {
   "cell_type": "code",
   "execution_count": null,
   "metadata": {},
   "outputs": [],
   "source": [
    "# using the del\n",
    "del df['six']\n",
    "df"
   ]
  },
  {
   "cell_type": "code",
   "execution_count": null,
   "metadata": {},
   "outputs": [],
   "source": [
    "# using the pop \n",
    "df.pop('five')\n",
    "df"
   ]
  },
  {
   "cell_type": "markdown",
   "metadata": {},
   "source": [
    "e) Addition of rows"
   ]
  },
  {
   "cell_type": "code",
   "execution_count": null,
   "metadata": {},
   "outputs": [],
   "source": [
    "df1 = pd.DataFrame([[1, 2], [3, 4]], columns = ['a','b'])\n",
    "df2 = pd.DataFrame([[5, 6], [7, 8]], columns = ['a','b'])\n",
    "\n",
    "\n",
    "df3 = df1.append(df2).reset_index(drop = True)\n",
    "\n",
    "df3"
   ]
  },
  {
   "cell_type": "code",
   "execution_count": null,
   "metadata": {},
   "outputs": [],
   "source": [
    "data = { 'one'   : pd.Series([1, 2, 3, 4]),\n",
    "         'two'   : pd.Series([10, 20, 30, 40]),\n",
    "         'three' : pd.Series([100, 200, 300, 400]),\n",
    "         'four'  : pd.Series([1000, 2000, 3000, 4000])}\n",
    "\n",
    "\n",
    "df = pd.DataFrame(data)\n",
    "df"
   ]
  },
  {
   "cell_type": "markdown",
   "metadata": {},
   "source": [
    "f) Pandas drop function:\n",
    "\n",
    "axis=0-->rows\n",
    "axis=1-->cols\n"
   ]
  },
  {
   "cell_type": "code",
   "execution_count": null,
   "metadata": {},
   "outputs": [],
   "source": [
    "# for the rows\n",
    "df.drop([0,1],axis=0,inplace=True)\n",
    "# instead of df=df for savingg we use inplace=true\n",
    "\n",
    "\n"
   ]
  },
  {
   "cell_type": "markdown",
   "metadata": {},
   "source": []
  },
  {
   "cell_type": "code",
   "execution_count": null,
   "metadata": {},
   "outputs": [],
   "source": [
    "# for the cols axis=1\n",
    "df.drop(['one','four'],axis=1,inplace=True)\n",
    "df"
   ]
  },
  {
   "cell_type": "markdown",
   "metadata": {},
   "source": []
  }
 ],
 "metadata": {
  "kernelspec": {
   "display_name": "Python 3",
   "language": "python",
   "name": "python3"
  },
  "language_info": {
   "codemirror_mode": {
    "name": "ipython",
    "version": 3
   },
   "file_extension": ".py",
   "mimetype": "text/x-python",
   "name": "python",
   "nbconvert_exporter": "python",
   "pygments_lexer": "ipython3",
   "version": "3.11.4"
  }
 },
 "nbformat": 4,
 "nbformat_minor": 2
}
