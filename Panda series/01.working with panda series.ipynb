{
 "cells": [
  {
   "cell_type": "markdown",
   "metadata": {},
   "source": [
    "a) Creating Series\n",
    " \n",
    "        Series through list\n",
    "        \n",
    "        Series through Numpy Array\n",
    "        \n",
    "        Setting up our own index\n",
    "        \n",
    "        Series through dictionary\n",
    "        \n",
    "        Using repeat function along with creating a Series\n",
    "        \n",
    "        Accessing data from Series\n",
    "----- b) Aggregate function on Pandas Series\n",
    "----- c) Sereis Absolute Function\n",
    "----- d) Appending Series\n",
    "----- e) Astype Function\n",
    "----- f) Between Functions\n",
    "----- g) All strings functions can be used to extract or modify texts in a series\n",
    " \n",
    "            Upper and Lower Function\n",
    "            \n",
    "            Len function\n",
    "            \n",
    "            Strip Function\n",
    "            \n",
    "            Split Function\n",
    "            \n",
    "            Contains Function\n",
    "            \n",
    "            Replace Function\n",
    "            \n",
    "            Count Function\n",
    "            \n",
    "            Startswith and Endswith Function\n",
    "            \n",
    "            Find Finction\n",
    "----- h) Converting a Series to List"
   ]
  },
  {
   "cell_type": "code",
   "execution_count": null,
   "metadata": {},
   "outputs": [],
   "source": [
    "pip install pandas as pd"
   ]
  },
  {
   "cell_type": "markdown",
   "metadata": {},
   "source": [
    "a) Creating Series-\n",
    "pandas is a one d labelled array capable of holding any data type\n",
    "-the axis lables are collectively called index\n",
    "-the labelles need not to be unique but hashable type\n",
    "-it supports both integer and lable based index\n"
   ]
  },
  {
   "cell_type": "markdown",
   "metadata": {},
   "source": [
    "series through list"
   ]
  },
  {
   "cell_type": "code",
   "execution_count": null,
   "metadata": {},
   "outputs": [],
   "source": [
    "import pandas as pd\n",
    "lst = [1,2,3,4,5]\n",
    "pd.Series(lst)\n",
    "pd.array()\n"
   ]
  },
  {
   "cell_type": "markdown",
   "metadata": {},
   "source": [
    "Series through Numpy array"
   ]
  },
  {
   "cell_type": "code",
   "execution_count": null,
   "metadata": {},
   "outputs": [],
   "source": [
    "import numpy as np\n",
    "arr=np.array([1,2,3,4,5])\n",
    "pd.Series(arr)"
   ]
  },
  {
   "cell_type": "markdown",
   "metadata": {},
   "source": [
    "Series through Numpy array"
   ]
  },
  {
   "cell_type": "code",
   "execution_count": null,
   "metadata": {},
   "outputs": [],
   "source": [
    "pd.Series(index=['Eshant', 'Pranjal', 'Jayesh', 'Ashish'],data=[5,2,1,3])"
   ]
  },
  {
   "cell_type": "markdown",
   "metadata": {},
   "source": [
    "Series through Dictionary values."
   ]
  },
  {
   "cell_type": "code",
   "execution_count": null,
   "metadata": {},
   "outputs": [],
   "source": [
    "steps = steps={'day1' : 4000, 'day2' : 3000, 'day3' : 12000}\n",
    "pd.Series(steps)"
   ]
  },
  {
   "cell_type": "markdown",
   "metadata": {},
   "source": [
    "Using repeat function along with creating a Series---->It returns a new Series where each element of the current Series is repeated consecutively a given number of times."
   ]
  },
  {
   "cell_type": "code",
   "execution_count": null,
   "metadata": {},
   "outputs": [],
   "source": [
    "pd.Series(5).repeat(3)\n",
    "\n",
    "# it prints the 0,0,0 as index and prints the 5 3 times to 1,2,3 we use reset_index(drop=true)\n",
    "\n",
    "pd.Series(5).repeat(3).reset_index(drop=True)\n",
    "\n",
    "# write a code such that \n",
    "\n",
    "# 10 should be repeated 5 times and\n",
    "# 20 should be repeated 2 times\n",
    "\n",
    "pd.Series([10,20]).repeat([5,2]).reset_index(drop=True)"
   ]
  },
  {
   "cell_type": "markdown",
   "metadata": {},
   "source": [
    "\n",
    "Accessing elements"
   ]
  },
  {
   "cell_type": "code",
   "execution_count": null,
   "metadata": {},
   "outputs": [],
   "source": [
    "s=[1,2,4,5]\n",
    "sd=pd.Series(s)\n",
    "sd[2]\n",
    "# like above shown we are going to acess the element \n",
    "# we cannot acess sd[50] as there is no index in the series\n",
    "\n",
    "# we can slice using the syntax sd[start:end-1]\n",
    "\n",
    "sd[1:3]\n",
    "sd[1:-1]"
   ]
  },
  {
   "cell_type": "markdown",
   "metadata": {},
   "source": [
    "\n",
    "b) Aggregate function on pandas Series-it agrigate one or more operations over the specified axis in the given series obj\n"
   ]
  },
  {
   "cell_type": "code",
   "execution_count": null,
   "metadata": {},
   "outputs": [],
   "source": [
    "sr=pd.Series([1,2,3,4,5,6,7])\n",
    "sr.agg([min,max,sum])"
   ]
  },
  {
   "cell_type": "markdown",
   "metadata": {},
   "source": [
    "c) Series absolute function-it basically makes absolute numeric value of each element in the series/Dataframe\n"
   ]
  },
  {
   "cell_type": "code",
   "execution_count": null,
   "metadata": {},
   "outputs": [],
   "source": [
    "sr = pd.Series([1,-2,3,-4,5,-6,7])\n",
    "sr.abs()"
   ]
  },
  {
   "cell_type": "markdown",
   "metadata": {},
   "source": [
    "d) Appending Series - it basically appends the two obj\n",
    "Syntax:Series.append(to_append, ignore_index=False, verify_integrity=False)\n",
    "\n",
    "verify_integrity=False- if true it would raise exception on creating index with dupicates"
   ]
  },
  {
   "cell_type": "code",
   "execution_count": null,
   "metadata": {},
   "outputs": [],
   "source": [
    "sr1 = pd.Series([1,-2,3])\n",
    "sr2 = pd.Series([1,2,3])\n",
    "sr3 = sr2.append(sr1,ignore_index=False, verify_integrity=False)\n",
    "sr3\n",
    "\n",
    "# to make accurate index \n",
    "sr3.reset_index(drop=True)"
   ]
  },
  {
   "cell_type": "markdown",
   "metadata": {},
   "source": [
    "e) Astype function- it is used to change the data type of the series\n",
    "mainly used when dataframe is made out of csv file the col are imported and data type is set automatically"
   ]
  },
  {
   "cell_type": "code",
   "execution_count": null,
   "metadata": {},
   "outputs": [],
   "source": [
    "sr1\n",
    "# above give int64 where below we are going to convert it into float64\n",
    "sr1.astype('float')"
   ]
  },
  {
   "cell_type": "markdown",
   "metadata": {},
   "source": [
    "\n",
    "f) Between Function - used to check values lie b/w the list blw the 1st and 2nd arg"
   ]
  },
  {
   "cell_type": "code",
   "execution_count": null,
   "metadata": {},
   "outputs": [],
   "source": [
    "sr1 = pd.Series([1,2,30,4,5,6,7,8,9,20])\n",
    "sr1[sr1.between(20,30)]"
   ]
  },
  {
   "cell_type": "markdown",
   "metadata": {},
   "source": [
    "g) All strings functions can be used to extract or modify texts in a series\n",
    " \n",
    " Upper and Lower Function\n",
    " \n",
    " Len function\n",
    " \n",
    " Strip Function\n",
    " \n",
    " Split Function\n",
    " \n",
    " Contains Function\n",
    " \n",
    " Replace Function\n",
    " \n",
    " Count Function\n",
    " \n",
    " Startswith and Endswith Function\n",
    " \n",
    " Find Finction"
   ]
  },
  {
   "cell_type": "markdown",
   "metadata": {},
   "source": [
    "Upper and Lower Function"
   ]
  },
  {
   "cell_type": "code",
   "execution_count": null,
   "metadata": {},
   "outputs": [],
   "source": [
    "ser = pd.Series([\"Eshant Das\" , \"Data Science\" , \"Geeks for Geeks\" , 'Hello World' , 'Machine Learning'])\n",
    "\n",
    "print(ser.str.upper())\n",
    "print(ser.str.lower())"
   ]
  },
  {
   "cell_type": "markdown",
   "metadata": {},
   "source": [
    "length function"
   ]
  },
  {
   "cell_type": "code",
   "execution_count": null,
   "metadata": {},
   "outputs": [],
   "source": [
    "for i in ser:\n",
    "    print(len(i))"
   ]
  },
  {
   "cell_type": "markdown",
   "metadata": {},
   "source": [
    "strip function -- it basically remove the empty spaces from the series\n",
    "\n"
   ]
  },
  {
   "cell_type": "code",
   "execution_count": null,
   "metadata": {},
   "outputs": [],
   "source": [
    "ser = pd.Series([\"  Eshant Das\" , \"Data Science\" , \"Geeks for Geeks\" , 'Hello World' , 'Machine Learning  '])\n",
    "for i in ser:\n",
    "    print(i,len(i))\n",
    "print(\"-\"*10)\n",
    "# two spaces have been removed\n",
    "ser=ser.str.strip()\n",
    "for i in ser:\n",
    "    print(i,len(i))"
   ]
  },
  {
   "cell_type": "markdown",
   "metadata": {},
   "source": [
    "contains function "
   ]
  },
  {
   "cell_type": "code",
   "execution_count": 46,
   "metadata": {},
   "outputs": [
    {
     "data": {
      "text/plain": [
       "1    Data@Science\n",
       "3     Hello@World\n",
       "dtype: object"
      ]
     },
     "execution_count": 46,
     "metadata": {},
     "output_type": "execute_result"
    }
   ],
   "source": [
    "ser = pd.Series([\"Eshant Das\",\"Data@Science\",\"Geeks for Geeks\",'Hello@World','Machine Learning'])\n",
    "\n",
    "ser[ser.str.contains('@')]"
   ]
  },
  {
   "cell_type": "markdown",
   "metadata": {},
   "source": [
    "count function"
   ]
  },
  {
   "cell_type": "code",
   "execution_count": 48,
   "metadata": {},
   "outputs": [
    {
     "data": {
      "text/plain": [
       "0    2\n",
       "1    2\n",
       "2    0\n",
       "3    0\n",
       "4    2\n",
       "dtype: int64"
      ]
     },
     "execution_count": 48,
     "metadata": {},
     "output_type": "execute_result"
    }
   ],
   "source": [
    "ser.str.count('a')"
   ]
  },
  {
   "cell_type": "markdown",
   "metadata": {},
   "source": [
    "starts with and ends with\n",
    "\n"
   ]
  },
  {
   "cell_type": "code",
   "execution_count": 50,
   "metadata": {},
   "outputs": [
    {
     "data": {
      "text/plain": [
       "0         Eshant Das\n",
       "2    Geeks for Geeks\n",
       "dtype: object"
      ]
     },
     "execution_count": 50,
     "metadata": {},
     "output_type": "execute_result"
    }
   ],
   "source": [
    "ser[ser.str.startswith('D')]\n",
    "ser[ser.str.endswith('s')]"
   ]
  },
  {
   "cell_type": "markdown",
   "metadata": {},
   "source": [
    "h) Converting a Series to List--> used to convert a series to a list"
   ]
  },
  {
   "cell_type": "code",
   "execution_count": 51,
   "metadata": {},
   "outputs": [
    {
     "data": {
      "text/plain": [
       "['Eshant Das',\n",
       " 'Data@Science',\n",
       " 'Geeks for Geeks',\n",
       " 'Hello@World',\n",
       " 'Machine Learning']"
      ]
     },
     "execution_count": 51,
     "metadata": {},
     "output_type": "execute_result"
    }
   ],
   "source": [
    "ser.to_list()"
   ]
  },
  {
   "cell_type": "code",
   "execution_count": null,
   "metadata": {},
   "outputs": [],
   "source": []
  }
 ],
 "metadata": {
  "kernelspec": {
   "display_name": "Python 3",
   "language": "python",
   "name": "python3"
  },
  "language_info": {
   "codemirror_mode": {
    "name": "ipython",
    "version": 3
   },
   "file_extension": ".py",
   "mimetype": "text/x-python",
   "name": "python",
   "nbconvert_exporter": "python",
   "pygments_lexer": "ipython3",
   "version": "3.11.4"
  }
 },
 "nbformat": 4,
 "nbformat_minor": 2
}
