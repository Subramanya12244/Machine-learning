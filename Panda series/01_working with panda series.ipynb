{
 "cells": [
  {
   "cell_type": "markdown",
   "metadata": {},
   "source": [
    "a) Creating Series\n",
    " \n",
    " Series through list\n",
    " \n",
    " Series through Numpy Array\n",
    " \n",
    " Setting up our own index\n",
    " \n",
    " Series through dictionary\n",
    " \n",
    " Using repeat function along with creating a Series\n",
    " \n",
    " Accessing data from Series\n",
    "----- b) Aggregate function on Pandas Series\n",
    "----- c) Sereis Absolute Function\n",
    "----- d) Appending Series\n",
    "----- e) Astype Function\n",
    "----- f) Between Functions\n",
    "----- g) All strings functions can be used to extract or modify texts in a series\n",
    " \n",
    " Upper and Lower Function\n",
    " \n",
    " Len function\n",
    " \n",
    " Strip Function\n",
    " \n",
    " Split Function\n",
    " \n",
    " Contains Function\n",
    " \n",
    " Replace Function\n",
    " \n",
    " Count Function\n",
    " \n",
    " Startswith and Endswith Function\n",
    " \n",
    " Find Finction\n",
    "----- h) Converting a Series to List"
   ]
  },
  {
   "cell_type": "code",
   "execution_count": 1,
   "metadata": {},
   "outputs": [
    {
     "name": "stdout",
     "output_type": "stream",
     "text": [
      "Requirement already satisfied: pandas in c:\\users\\asubr\\appdata\\local\\programs\\python\\python311\\lib\\site-packages (1.5.3)\n",
      "Note: you may need to restart the kernel to use updated packages.\n"
     ]
    },
    {
     "name": "stderr",
     "output_type": "stream",
     "text": [
      "ERROR: Could not find a version that satisfies the requirement as (from versions: none)\n",
      "ERROR: No matching distribution found for as\n",
      "\n",
      "[notice] A new release of pip is available: 24.0 -> 24.1.1\n",
      "[notice] To update, run: python.exe -m pip install --upgrade pip\n"
     ]
    }
   ],
   "source": [
    "pip install pandas as pd"
   ]
  },
  {
   "cell_type": "markdown",
   "metadata": {},
   "source": [
    "a) Creating Series-\n",
    "pandas is a one d labelled array capable of holding any data type\n",
    "-the axis lables are collectively called index\n",
    "-the labelles need not to be unique but hashable type\n",
    "-it supports both integer and lable based index\n"
   ]
  },
  {
   "cell_type": "markdown",
   "metadata": {},
   "source": [
    "series through list"
   ]
  },
  {
   "cell_type": "code",
   "execution_count": 3,
   "metadata": {},
   "outputs": [
    {
     "data": {
      "text/plain": [
       "0    1\n",
       "1    2\n",
       "2    3\n",
       "3    4\n",
       "4    5\n",
       "dtype: int64"
      ]
     },
     "execution_count": 3,
     "metadata": {},
     "output_type": "execute_result"
    }
   ],
   "source": [
    "import pandas as pd\n",
    "lst = [1,2,3,4,5]\n",
    "pd.Series(lst)\n"
   ]
  },
  {
   "cell_type": "markdown",
   "metadata": {},
   "source": [
    "Series through Numpy array"
   ]
  },
  {
   "cell_type": "code",
   "execution_count": 4,
   "metadata": {},
   "outputs": [
    {
     "data": {
      "text/plain": [
       "0    1\n",
       "1    2\n",
       "2    3\n",
       "3    4\n",
       "4    5\n",
       "dtype: int32"
      ]
     },
     "execution_count": 4,
     "metadata": {},
     "output_type": "execute_result"
    }
   ],
   "source": [
    "import numpy as np\n",
    "arr=np.array([1,2,3,4,5])\n",
    "pd.Series(arr)"
   ]
  },
  {
   "cell_type": "markdown",
   "metadata": {},
   "source": [
    "Series through Numpy array"
   ]
  },
  {
   "cell_type": "code",
   "execution_count": 8,
   "metadata": {},
   "outputs": [
    {
     "data": {
      "text/plain": [
       "Eshant     5\n",
       "Pranjal    2\n",
       "Jayesh     1\n",
       "Ashish     3\n",
       "dtype: int64"
      ]
     },
     "execution_count": 8,
     "metadata": {},
     "output_type": "execute_result"
    }
   ],
   "source": [
    "pd.Series(index=['Eshant', 'Pranjal', 'Jayesh', 'Ashish'],data=[5,2,1,3])"
   ]
  },
  {
   "cell_type": "markdown",
   "metadata": {},
   "source": [
    "Series through Dictionary values."
   ]
  },
  {
   "cell_type": "code",
   "execution_count": 9,
   "metadata": {},
   "outputs": [
    {
     "data": {
      "text/plain": [
       "day1     4000\n",
       "day2     3000\n",
       "day3    12000\n",
       "dtype: int64"
      ]
     },
     "execution_count": 9,
     "metadata": {},
     "output_type": "execute_result"
    }
   ],
   "source": [
    "steps = steps={'day1' : 4000, 'day2' : 3000, 'day3' : 12000}\n",
    "pd.Series(steps)"
   ]
  },
  {
   "cell_type": "code",
   "execution_count": null,
   "metadata": {},
   "outputs": [],
   "source": []
  }
 ],
 "metadata": {
  "kernelspec": {
   "display_name": "Python 3",
   "language": "python",
   "name": "python3"
  },
  "language_info": {
   "codemirror_mode": {
    "name": "ipython",
    "version": 3
   },
   "file_extension": ".py",
   "mimetype": "text/x-python",
   "name": "python",
   "nbconvert_exporter": "python",
   "pygments_lexer": "ipython3",
   "version": "3.11.4"
  }
 },
 "nbformat": 4,
 "nbformat_minor": 2
}
