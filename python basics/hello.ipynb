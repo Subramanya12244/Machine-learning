{
 "cells": [
  {
   "cell_type": "code",
   "execution_count": 12,
   "metadata": {},
   "outputs": [
    {
     "name": "stdout",
     "output_type": "stream",
     "text": [
      "not a palindrome\n"
     ]
    }
   ],
   "source": [
    "str=\"abca\"\n",
    "# print(str[::-1])\n",
    "\n",
    "if str[::]==str[::-1]:\n",
    "    print(\"palindrome\")\n",
    "else:\n",
    "    print(\"not a palindrome\")"
   ]
  },
  {
   "cell_type": "code",
   "execution_count": null,
   "metadata": {},
   "outputs": [],
   "source": [
    "l1=[5,1,24,7]\n",
    "for i in range(len(l1)):\n",
    "    min=l1[i]\n",
    "    "
   ]
  },
  {
   "cell_type": "code",
   "execution_count": 7,
   "metadata": {},
   "outputs": [
    {
     "name": "stdout",
     "output_type": "stream",
     "text": [
      "{'a': 1, 'c': 10, 'd': 21}\n"
     ]
    }
   ],
   "source": [
    "l1=[1,10,21,16]\n",
    "l2=['a','c','d']\n",
    "ans={}\n",
    "# for i in l2:\n",
    "#     for j in l1:\n",
    "#         ans[i]=j\n",
    "#         l1.remove(j)\n",
    "#         break\n",
    "# print(ans)\n",
    "\n",
    "for i in range(min(len(l1),len(l2))):\n",
    "    ans[l2[i]]=l1[i]\n",
    "print(ans)"
   ]
  },
  {
   "cell_type": "code",
   "execution_count": 15,
   "metadata": {},
   "outputs": [
    {
     "name": "stdout",
     "output_type": "stream",
     "text": [
      "{1: ('One', 'first'), 9: 20, 3: ('Three', 'Third')}\n"
     ]
    }
   ],
   "source": [
    "d1={\n",
    "    1:\"One\",\n",
    "    9: 20,\n",
    "    3:\"Three\"\n",
    "}\n",
    "d2={\n",
    "    1:\"first\",\n",
    "    3:\"Third\"\n",
    "}\n",
    "d3={}\n",
    "\n",
    "for i in d1:\n",
    "    if i in d2:\n",
    "        d3[i]=(d1[i],d2[i])\n",
    "    else:\n",
    "        d3[i]=d1[i]\n",
    "for i in d2:\n",
    "     if i not in d3:\n",
    "         d3[i]=d2[i]\n",
    "            \n",
    "print(d3)"
   ]
  },
  {
   "cell_type": "code",
   "execution_count": 16,
   "metadata": {},
   "outputs": [
    {
     "name": "stdout",
     "output_type": "stream",
     "text": [
      "dict_items([('a', 1), ('b', 2), ('c', 3)])\n"
     ]
    }
   ],
   "source": [
    "d1 = {'a': 1, 'b': 2, 'c': 3}\n",
    "d2 = {'b': 3, 'c': 4, 'd': 5}\n",
    "\n",
    "ans={}\n",
    "ans=d1.copy()\n",
    "\n",
    "for key,value in d2.items():\n",
    "    if key in ans:\n",
    "        ans[key]+=value\n",
    "    else:\n",
    "        ans[key]=value\n",
    "ans\n"
   ]
  },
  {
   "cell_type": "code",
   "execution_count": 18,
   "metadata": {},
   "outputs": [
    {
     "data": {
      "text/plain": [
       "{1: 'a', 2: 'b', 3: 'c'}"
      ]
     },
     "execution_count": 18,
     "metadata": {},
     "output_type": "execute_result"
    }
   ],
   "source": [
    "d = {'a': 1, 'b': 2, 'c': 3}\n",
    "def invert(d):\n",
    "    inverted={}\n",
    "    for key,value in d.items():\n",
    "        inverted[value]=key\n",
    "    return inverted\n",
    "\n",
    "invert(d)\n",
    "    "
   ]
  },
  {
   "cell_type": "code",
   "execution_count": 21,
   "metadata": {},
   "outputs": [
    {
     "name": "stdout",
     "output_type": "stream",
     "text": [
      "{'a': 1, 'b': 2, 'c': 0, 'd': 0}\n"
     ]
    }
   ],
   "source": [
    "def update_with_defaults(d, keys, default_value):\n",
    "    for key in keys:\n",
    "        if key not in d:\n",
    "            d[key] = default_value\n",
    "    return d\n",
    "\n",
    "# Example\n",
    "d = {'a': 1, 'b': 2}\n",
    "keys = ['b', 'c', 'd']\n",
    "default_value = 0\n",
    "print(update_with_defaults(d, keys, default_value))\n"
   ]
  },
  {
   "cell_type": "code",
   "execution_count": 13,
   "metadata": {},
   "outputs": [
    {
     "name": "stdout",
     "output_type": "stream",
     "text": [
      "hello world\n",
      "welcome\n",
      "thanks for coming\n"
     ]
    }
   ],
   "source": [
    "#decorators ex:\n",
    "def greet(fun):\n",
    "    def mfx():\n",
    "        print(\"hello world\")\n",
    "        fun()\n",
    "        print(\"thanks for coming\")\n",
    "    return mfx()\n",
    "\n",
    "# @greet\n",
    "def func():\n",
    "    print(\"welcome\")\n",
    "    \n",
    "# @greet\n",
    "# either use it or use @greet before the function\n",
    "\n",
    "greet(func)"
   ]
  },
  {
   "cell_type": "code",
   "execution_count": null,
   "metadata": {},
   "outputs": [],
   "source": []
  }
 ],
 "metadata": {
  "kernelspec": {
   "display_name": "Python 3",
   "language": "python",
   "name": "python3"
  },
  "language_info": {
   "codemirror_mode": {
    "name": "ipython",
    "version": 3
   },
   "file_extension": ".py",
   "mimetype": "text/x-python",
   "name": "python",
   "nbconvert_exporter": "python",
   "pygments_lexer": "ipython3",
   "version": "3.11.4"
  }
 },
 "nbformat": 4,
 "nbformat_minor": 2
}
